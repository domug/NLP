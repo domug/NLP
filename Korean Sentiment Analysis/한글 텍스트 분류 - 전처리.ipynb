{
 "cells": [
  {
   "cell_type": "markdown",
   "metadata": {},
   "source": [
    "# 데이터 불러오기\n",
    "\n",
    "---\n",
    "- 네이버 영화 리뷰 데이터를 이용해 한글 감정 분석을 진행.\n",
    "- 데이터 출처: https://github.com/e9t/nsmc"
   ]
  },
  {
   "cell_type": "code",
   "execution_count": 1,
   "metadata": {
    "ExecuteTime": {
     "end_time": "2021-01-12T12:17:56.400247Z",
     "start_time": "2021-01-12T12:17:54.884532Z"
    }
   },
   "outputs": [],
   "source": [
    "import numpy as np\n",
    "import pandas as pd\n",
    "import os\n",
    "import matplotlib.pyplot as plt\n",
    "import seaborn as sns"
   ]
  },
  {
   "cell_type": "code",
   "execution_count": 2,
   "metadata": {
    "ExecuteTime": {
     "end_time": "2021-01-12T12:17:56.407851Z",
     "start_time": "2021-01-12T12:17:56.402438Z"
    }
   },
   "outputs": [
    {
     "name": "stdout",
     "output_type": "stream",
     "text": [
      "파일 크기: \n",
      "korean_reviews_train.txt      84.0MB\n",
      "ratings_test.txt              4.89MB\n",
      "ratings.txt                   19.52MB\n",
      "불용어사전.txt                     0.0MB\n",
      "ratings_train.txt             14.63MB\n",
      "korean_reviews_test.txt       28.2MB\n"
     ]
    }
   ],
   "source": [
    "# 파일 사이즈 확인\n",
    "WORKING_DIRECTORY = \"./\"\n",
    "print(\"파일 크기: \")\n",
    "for file in os.listdir(WORKING_DIRECTORY):\n",
    "    if \"txt\" in file:\n",
    "        print(file.ljust(30) + str(round(os.path.getsize(WORKING_DIRECTORY + file) / 1000000, 2)) + \"MB\")"
   ]
  },
  {
   "cell_type": "code",
   "execution_count": 3,
   "metadata": {
    "ExecuteTime": {
     "end_time": "2021-01-12T12:17:56.734409Z",
     "start_time": "2021-01-12T12:17:56.410628Z"
    }
   },
   "outputs": [
    {
     "name": "stdout",
     "output_type": "stream",
     "text": [
      "(150000, 3)\n"
     ]
    },
    {
     "data": {
      "text/html": [
       "<div>\n",
       "<style scoped>\n",
       "    .dataframe tbody tr th:only-of-type {\n",
       "        vertical-align: middle;\n",
       "    }\n",
       "\n",
       "    .dataframe tbody tr th {\n",
       "        vertical-align: top;\n",
       "    }\n",
       "\n",
       "    .dataframe thead th {\n",
       "        text-align: right;\n",
       "    }\n",
       "</style>\n",
       "<table border=\"1\" class=\"dataframe\">\n",
       "  <thead>\n",
       "    <tr style=\"text-align: right;\">\n",
       "      <th></th>\n",
       "      <th>id</th>\n",
       "      <th>document</th>\n",
       "      <th>label</th>\n",
       "    </tr>\n",
       "  </thead>\n",
       "  <tbody>\n",
       "    <tr>\n",
       "      <th>0</th>\n",
       "      <td>9976970</td>\n",
       "      <td>아 더빙.. 진짜 짜증나네요 목소리</td>\n",
       "      <td>0</td>\n",
       "    </tr>\n",
       "    <tr>\n",
       "      <th>1</th>\n",
       "      <td>3819312</td>\n",
       "      <td>흠...포스터보고 초딩영화줄....오버연기조차 가볍지 않구나</td>\n",
       "      <td>1</td>\n",
       "    </tr>\n",
       "    <tr>\n",
       "      <th>2</th>\n",
       "      <td>10265843</td>\n",
       "      <td>너무재밓었다그래서보는것을추천한다</td>\n",
       "      <td>0</td>\n",
       "    </tr>\n",
       "    <tr>\n",
       "      <th>3</th>\n",
       "      <td>9045019</td>\n",
       "      <td>교도소 이야기구먼 ..솔직히 재미는 없다..평점 조정</td>\n",
       "      <td>0</td>\n",
       "    </tr>\n",
       "    <tr>\n",
       "      <th>4</th>\n",
       "      <td>6483659</td>\n",
       "      <td>사이몬페그의 익살스런 연기가 돋보였던 영화!스파이더맨에서 늙어보이기만 했던 커스틴 ...</td>\n",
       "      <td>1</td>\n",
       "    </tr>\n",
       "  </tbody>\n",
       "</table>\n",
       "</div>"
      ],
      "text/plain": [
       "         id                                           document  label\n",
       "0   9976970                                아 더빙.. 진짜 짜증나네요 목소리      0\n",
       "1   3819312                  흠...포스터보고 초딩영화줄....오버연기조차 가볍지 않구나      1\n",
       "2  10265843                                  너무재밓었다그래서보는것을추천한다      0\n",
       "3   9045019                      교도소 이야기구먼 ..솔직히 재미는 없다..평점 조정      0\n",
       "4   6483659  사이몬페그의 익살스런 연기가 돋보였던 영화!스파이더맨에서 늙어보이기만 했던 커스틴 ...      1"
      ]
     },
     "execution_count": 3,
     "metadata": {},
     "output_type": "execute_result"
    }
   ],
   "source": [
    "# 학습 데이터\n",
    "train_data = pd.read_csv(WORKING_DIRECTORY + \"ratings_train.txt\", header=0, delimiter=\"\\t\", quoting=3)\n",
    "\n",
    "print(train_data.shape)\n",
    "train_data.head()"
   ]
  },
  {
   "cell_type": "code",
   "execution_count": 4,
   "metadata": {
    "ExecuteTime": {
     "end_time": "2021-01-12T12:17:56.847502Z",
     "start_time": "2021-01-12T12:17:56.736452Z"
    }
   },
   "outputs": [
    {
     "name": "stdout",
     "output_type": "stream",
     "text": [
      "(50000, 3)\n"
     ]
    },
    {
     "data": {
      "text/html": [
       "<div>\n",
       "<style scoped>\n",
       "    .dataframe tbody tr th:only-of-type {\n",
       "        vertical-align: middle;\n",
       "    }\n",
       "\n",
       "    .dataframe tbody tr th {\n",
       "        vertical-align: top;\n",
       "    }\n",
       "\n",
       "    .dataframe thead th {\n",
       "        text-align: right;\n",
       "    }\n",
       "</style>\n",
       "<table border=\"1\" class=\"dataframe\">\n",
       "  <thead>\n",
       "    <tr style=\"text-align: right;\">\n",
       "      <th></th>\n",
       "      <th>id</th>\n",
       "      <th>document</th>\n",
       "      <th>label</th>\n",
       "    </tr>\n",
       "  </thead>\n",
       "  <tbody>\n",
       "    <tr>\n",
       "      <th>0</th>\n",
       "      <td>6270596</td>\n",
       "      <td>굳 ㅋ</td>\n",
       "      <td>1</td>\n",
       "    </tr>\n",
       "    <tr>\n",
       "      <th>1</th>\n",
       "      <td>9274899</td>\n",
       "      <td>GDNTOPCLASSINTHECLUB</td>\n",
       "      <td>0</td>\n",
       "    </tr>\n",
       "    <tr>\n",
       "      <th>2</th>\n",
       "      <td>8544678</td>\n",
       "      <td>뭐야 이 평점들은.... 나쁘진 않지만 10점 짜리는 더더욱 아니잖아</td>\n",
       "      <td>0</td>\n",
       "    </tr>\n",
       "    <tr>\n",
       "      <th>3</th>\n",
       "      <td>6825595</td>\n",
       "      <td>지루하지는 않은데 완전 막장임... 돈주고 보기에는....</td>\n",
       "      <td>0</td>\n",
       "    </tr>\n",
       "    <tr>\n",
       "      <th>4</th>\n",
       "      <td>6723715</td>\n",
       "      <td>3D만 아니었어도 별 다섯 개 줬을텐데.. 왜 3D로 나와서 제 심기를 불편하게 하죠??</td>\n",
       "      <td>0</td>\n",
       "    </tr>\n",
       "  </tbody>\n",
       "</table>\n",
       "</div>"
      ],
      "text/plain": [
       "        id                                           document  label\n",
       "0  6270596                                                굳 ㅋ      1\n",
       "1  9274899                               GDNTOPCLASSINTHECLUB      0\n",
       "2  8544678             뭐야 이 평점들은.... 나쁘진 않지만 10점 짜리는 더더욱 아니잖아      0\n",
       "3  6825595                   지루하지는 않은데 완전 막장임... 돈주고 보기에는....      0\n",
       "4  6723715  3D만 아니었어도 별 다섯 개 줬을텐데.. 왜 3D로 나와서 제 심기를 불편하게 하죠??      0"
      ]
     },
     "execution_count": 4,
     "metadata": {},
     "output_type": "execute_result"
    }
   ],
   "source": [
    "# 테스트 데이터\n",
    "test_data = pd.read_csv(WORKING_DIRECTORY + \"ratings_test.txt\", header=0, delimiter=\"\\t\", quoting=3)\n",
    "\n",
    "print(test_data.shape)\n",
    "test_data.head()"
   ]
  },
  {
   "cell_type": "markdown",
   "metadata": {},
   "source": [
    "- 학습 데이터와 테스트 데이터가 3:1의 비율로 나눠져 있습니다. (15만 vs 5만)"
   ]
  },
  {
   "cell_type": "markdown",
   "metadata": {},
   "source": [
    "# EDA\n",
    "\n",
    "- 학습 데이터의 리뷰들을 바탕으로 여러가지 정보를 뽑아내봅시다."
   ]
  },
  {
   "cell_type": "markdown",
   "metadata": {},
   "source": [
    "## 라벨의 분포"
   ]
  },
  {
   "cell_type": "code",
   "execution_count": 5,
   "metadata": {
    "ExecuteTime": {
     "end_time": "2021-01-12T12:17:56.952857Z",
     "start_time": "2021-01-12T12:17:56.849237Z"
    }
   },
   "outputs": [
    {
     "name": "stdout",
     "output_type": "stream",
     "text": [
      "0    75173\n",
      "1    74827\n",
      "Name: label, dtype: int64\n"
     ]
    },
    {
     "data": {
      "image/png": "[encoded data removed]",
      "text/plain": [
       "<Figure size 432x288 with 1 Axes>"
      ]
     },
     "metadata": {
      "needs_background": "light"
     },
     "output_type": "display_data"
    }
   ],
   "source": [
    "# 학습 데이터의 라벨 분포\n",
    "print(train_data.label.value_counts())\n",
    "sns.countplot(train_data.label)\n",
    "plt.show()"
   ]
  },
  {
   "cell_type": "code",
   "execution_count": 6,
   "metadata": {
    "ExecuteTime": {
     "end_time": "2021-01-12T12:17:57.034095Z",
     "start_time": "2021-01-12T12:17:56.954398Z"
    }
   },
   "outputs": [
    {
     "name": "stdout",
     "output_type": "stream",
     "text": [
      "1    25173\n",
      "0    24827\n",
      "Name: label, dtype: int64\n"
     ]
    },
    {
     "data": {
      "image/png": "[encoded data removed]",
      "text/plain": [
       "<Figure size 432x288 with 1 Axes>"
      ]
     },
     "metadata": {
      "needs_background": "light"
     },
     "output_type": "display_data"
    }
   ],
   "source": [
    "# 테스트 데이터의 라벨 분포\n",
    "print(test_data.label.value_counts())\n",
    "sns.countplot(test_data.label)\n",
    "plt.show()"
   ]
  },
  {
   "cell_type": "markdown",
   "metadata": {},
   "source": [
    "- 학습/테스트 데이터 모두 라벨이 거의 균등하게 나뉜 것을 확인할 수 있다."
   ]
  },
  {
   "cell_type": "markdown",
   "metadata": {},
   "source": [
    "## 리뷰의 글자수 분포"
   ]
  },
  {
   "cell_type": "code",
   "execution_count": 7,
   "metadata": {
    "ExecuteTime": {
     "end_time": "2021-01-12T12:17:58.231810Z",
     "start_time": "2021-01-12T12:17:57.035686Z"
    }
   },
   "outputs": [
    {
     "data": {
      "image/png": "[encoded data removed]",
      "text/plain": [
       "<Figure size 864x360 with 2 Axes>"
      ]
     },
     "metadata": {
      "needs_background": "light"
     },
     "output_type": "display_data"
    }
   ],
   "source": [
    "# 리뷰의 글자 수 집계\n",
    "train_length = train_data.document.astype(str).apply(len)\n",
    "\n",
    "# 시각화\n",
    "plt.figure(figsize=(12,5))\n",
    "plt.rcParams['font.family'] = 'AppleGothic'   # 한글 깨짐 방지\n",
    "\n",
    "# 히스토그램\n",
    "plt.subplot(1,2,1)\n",
    "train_length.plot(kind=\"hist\", bins=200, alpha=0.5, color=\"red\", label=\"count\")\n",
    "plt.legend()\n",
    "plt.xlabel(\"리뷰의 길이\")\n",
    "plt.ylabel(\"리뷰의 개수\")\n",
    "plt.title(\"리뷰의 길이에 대한 히스토그램\")\n",
    "\n",
    "\n",
    "# 로그 히스토그램\n",
    "plt.subplot(1,2,2)\n",
    "train_length.plot(kind=\"hist\", bins=150, alpha=0.5, color=\"blue\", label=\"count\")\n",
    "plt.yscale(\"log\", nonposy=\"clip\")\n",
    "plt.legend()\n",
    "plt.xlabel(\"리뷰의 길이\")\n",
    "plt.ylabel(\"리뷰의 개수\")\n",
    "plt.title(\"리뷰의 길이에 대한 로그-히스토그램\")\n",
    "\n",
    "plt.show()"
   ]
  },
  {
   "cell_type": "markdown",
   "metadata": {},
   "source": [
    "- 전체적으로 고르게 분포되어 있는 것 같다.\n",
    "- 20자가 넘어가면서부터 개수가 줄지만, 특이하게 140자 근처에서 다시 값이 상승함.\n",
    "- 해당 데이터의 경우 글자수가 140자로 제한되어 있기 때문에 (특수문자 제외) 그런 것으로 파악됨."
   ]
  },
  {
   "cell_type": "code",
   "execution_count": 8,
   "metadata": {
    "ExecuteTime": {
     "end_time": "2021-01-12T12:17:58.244157Z",
     "start_time": "2021-01-12T12:17:58.235155Z"
    },
    "scrolled": true
   },
   "outputs": [
    {
     "data": {
      "text/plain": [
       "count    150000.000000\n",
       "mean         35.237493\n",
       "std          29.582361\n",
       "min           1.000000\n",
       "25%          16.000000\n",
       "50%          27.000000\n",
       "75%          42.000000\n",
       "max         158.000000\n",
       "Name: document, dtype: float64"
      ]
     },
     "execution_count": 8,
     "metadata": {},
     "output_type": "execute_result"
    }
   ],
   "source": [
    "# 리뷰 길이에 대한 기술 통계량\n",
    "train_length.describe()"
   ]
  },
  {
   "cell_type": "code",
   "execution_count": 9,
   "metadata": {
    "ExecuteTime": {
     "end_time": "2021-01-12T12:17:58.367691Z",
     "start_time": "2021-01-12T12:17:58.246394Z"
    }
   },
   "outputs": [
    {
     "data": {
      "image/png": "[encoded data removed]",
      "text/plain": [
       "<Figure size 432x288 with 1 Axes>"
      ]
     },
     "metadata": {
      "needs_background": "light"
     },
     "output_type": "display_data"
    }
   ],
   "source": [
    "train_length.plot(kind=\"box\", showmeans=True)\n",
    "plt.show()"
   ]
  },
  {
   "cell_type": "markdown",
   "metadata": {},
   "source": [
    "- 일부 길이가 긴 데이터들이 존재한다. 길이가 80자 이상인 리뷰들의 특징은 없을지 파악해보자."
   ]
  },
  {
   "cell_type": "code",
   "execution_count": 10,
   "metadata": {
    "ExecuteTime": {
     "end_time": "2021-01-12T12:17:58.564125Z",
     "start_time": "2021-01-12T12:17:58.369607Z"
    }
   },
   "outputs": [
    {
     "data": {
      "text/html": [
       "<div>\n",
       "<style scoped>\n",
       "    .dataframe tbody tr th:only-of-type {\n",
       "        vertical-align: middle;\n",
       "    }\n",
       "\n",
       "    .dataframe tbody tr th {\n",
       "        vertical-align: top;\n",
       "    }\n",
       "\n",
       "    .dataframe thead th {\n",
       "        text-align: right;\n",
       "    }\n",
       "</style>\n",
       "<table border=\"1\" class=\"dataframe\">\n",
       "  <thead>\n",
       "    <tr style=\"text-align: right;\">\n",
       "      <th></th>\n",
       "      <th>id</th>\n",
       "      <th>document</th>\n",
       "      <th>label</th>\n",
       "    </tr>\n",
       "  </thead>\n",
       "  <tbody>\n",
       "    <tr>\n",
       "      <th>7</th>\n",
       "      <td>9443947</td>\n",
       "      <td>별 반개도 아깝다 욕나온다 이응경 길용우 연기생활이몇년인지..정말 발로해도 그것보단...</td>\n",
       "      <td>0</td>\n",
       "    </tr>\n",
       "    <tr>\n",
       "      <th>22</th>\n",
       "      <td>9705777</td>\n",
       "      <td>재미없다 지루하고. 같은 음식 영화인데도 바베트의 만찬하고 넘 차이남....바베트의...</td>\n",
       "      <td>0</td>\n",
       "    </tr>\n",
       "    <tr>\n",
       "      <th>44</th>\n",
       "      <td>8548510</td>\n",
       "      <td>윤제문이라는 멋진 배우를 발견하게 됐어요. 소소한 일탈이 잔잔한 미소를 머금게 합니...</td>\n",
       "      <td>1</td>\n",
       "    </tr>\n",
       "    <tr>\n",
       "      <th>46</th>\n",
       "      <td>9440670</td>\n",
       "      <td>리얼리티가 뛰어나긴 한데 큰 공감은 안간다. 이민기캐릭터는 정신의학상 분노조절장애 ...</td>\n",
       "      <td>0</td>\n",
       "    </tr>\n",
       "    <tr>\n",
       "      <th>49</th>\n",
       "      <td>9837767</td>\n",
       "      <td>데너리스 타르 가르엔...나도 용의주인이 되고 싶다...누이랑,근친상간이나 하고 다...</td>\n",
       "      <td>1</td>\n",
       "    </tr>\n",
       "    <tr>\n",
       "      <th>...</th>\n",
       "      <td>...</td>\n",
       "      <td>...</td>\n",
       "      <td>...</td>\n",
       "    </tr>\n",
       "    <tr>\n",
       "      <th>149964</th>\n",
       "      <td>8970481</td>\n",
       "      <td>성룡의진중하고 무게있는 연기가 참좋다. 신주쿠-대병소장-베스트키드-스파이넥스트도어-...</td>\n",
       "      <td>1</td>\n",
       "    </tr>\n",
       "    <tr>\n",
       "      <th>149976</th>\n",
       "      <td>9811006</td>\n",
       "      <td>일본은 한국전쟁에 참전한적도 없고 2차세계대전이후 완전 패망했다가 한국전쟁 때 군수...</td>\n",
       "      <td>0</td>\n",
       "    </tr>\n",
       "    <tr>\n",
       "      <th>149978</th>\n",
       "      <td>6798178</td>\n",
       "      <td>그리 만족스럽진못했어도 7점은 나와야되는것같아 10점줌. 주인공들연기도 훌륭했고 내...</td>\n",
       "      <td>1</td>\n",
       "    </tr>\n",
       "    <tr>\n",
       "      <th>149981</th>\n",
       "      <td>9633559</td>\n",
       "      <td>시간이 아깝다. 어린 여주의 연기는 인상적이었고 나중이 기대되어서 좋았고 남주 여주...</td>\n",
       "      <td>0</td>\n",
       "    </tr>\n",
       "    <tr>\n",
       "      <th>149991</th>\n",
       "      <td>9492905</td>\n",
       "      <td>http://blog.naver.com/oroblast/220215679580 나쁜...</td>\n",
       "      <td>1</td>\n",
       "    </tr>\n",
       "  </tbody>\n",
       "</table>\n",
       "<p>13383 rows × 3 columns</p>\n",
       "</div>"
      ],
      "text/plain": [
       "             id                                           document  label\n",
       "7       9443947  별 반개도 아깝다 욕나온다 이응경 길용우 연기생활이몇년인지..정말 발로해도 그것보단...      0\n",
       "22      9705777  재미없다 지루하고. 같은 음식 영화인데도 바베트의 만찬하고 넘 차이남....바베트의...      0\n",
       "44      8548510  윤제문이라는 멋진 배우를 발견하게 됐어요. 소소한 일탈이 잔잔한 미소를 머금게 합니...      1\n",
       "46      9440670  리얼리티가 뛰어나긴 한데 큰 공감은 안간다. 이민기캐릭터는 정신의학상 분노조절장애 ...      0\n",
       "49      9837767  데너리스 타르 가르엔...나도 용의주인이 되고 싶다...누이랑,근친상간이나 하고 다...      1\n",
       "...         ...                                                ...    ...\n",
       "149964  8970481  성룡의진중하고 무게있는 연기가 참좋다. 신주쿠-대병소장-베스트키드-스파이넥스트도어-...      1\n",
       "149976  9811006  일본은 한국전쟁에 참전한적도 없고 2차세계대전이후 완전 패망했다가 한국전쟁 때 군수...      0\n",
       "149978  6798178  그리 만족스럽진못했어도 7점은 나와야되는것같아 10점줌. 주인공들연기도 훌륭했고 내...      1\n",
       "149981  9633559  시간이 아깝다. 어린 여주의 연기는 인상적이었고 나중이 기대되어서 좋았고 남주 여주...      0\n",
       "149991  9492905  http://blog.naver.com/oroblast/220215679580 나쁜...      1\n",
       "\n",
       "[13383 rows x 3 columns]"
      ]
     },
     "execution_count": 10,
     "metadata": {},
     "output_type": "execute_result"
    }
   ],
   "source": [
    "# 길이가 긴 리뷰들\n",
    "long_review_index = train_length[train_length > 80].index\n",
    "long_reviews = train_data.loc[long_review_index, :]\n",
    "\n",
    "long_reviews"
   ]
  },
  {
   "cell_type": "code",
   "execution_count": 11,
   "metadata": {
    "ExecuteTime": {
     "end_time": "2021-01-12T12:17:58.650721Z",
     "start_time": "2021-01-12T12:17:58.565724Z"
    }
   },
   "outputs": [
    {
     "name": "stdout",
     "output_type": "stream",
     "text": [
      "0    7165\n",
      "1    6218\n",
      "Name: label, dtype: int64\n"
     ]
    },
    {
     "data": {
      "image/png": "[encoded data removed]",
      "text/plain": [
       "<Figure size 432x288 with 1 Axes>"
      ]
     },
     "metadata": {
      "needs_background": "light"
     },
     "output_type": "display_data"
    }
   ],
   "source": [
    "print(long_reviews.label.value_counts())\n",
    "sns.countplot(long_reviews.label)\n",
    "plt.show()"
   ]
  },
  {
   "cell_type": "markdown",
   "metadata": {},
   "source": [
    "- 전체적으로는 라벨이 균등했던 것과 비교해 길이가 길어질 수록 부정적인 리뷰가 좀 더 많은 것을 확인할 수 있다."
   ]
  },
  {
   "cell_type": "markdown",
   "metadata": {},
   "source": [
    "## 리뷰의 단어수 분포"
   ]
  },
  {
   "cell_type": "code",
   "execution_count": 12,
   "metadata": {
    "ExecuteTime": {
     "end_time": "2021-01-12T12:17:58.791605Z",
     "start_time": "2021-01-12T12:17:58.652475Z"
    }
   },
   "outputs": [],
   "source": [
    "train_word_counts = train_data.document.astype(str).apply(lambda x: len(x.split()))"
   ]
  },
  {
   "cell_type": "code",
   "execution_count": 13,
   "metadata": {
    "ExecuteTime": {
     "end_time": "2021-01-12T12:17:59.294800Z",
     "start_time": "2021-01-12T12:17:58.793161Z"
    }
   },
   "outputs": [
    {
     "data": {
      "image/png": "[encoded data removed]",
      "text/plain": [
       "<Figure size 720x360 with 2 Axes>"
      ]
     },
     "metadata": {
      "needs_background": "light"
     },
     "output_type": "display_data"
    }
   ],
   "source": [
    "plt.figure(figsize=(10,5))\n",
    "plt.rcParams['font.family'] = 'AppleGothic'   # 한글 깨짐 방지\n",
    "\n",
    "# 히스토그램\n",
    "plt.subplot(1,2,1)\n",
    "plt.hist(train_word_counts, bins=50, facecolor=\"red\", alpha=0.5, label=\"word_count\")\n",
    "plt.title(\"리뷰 단어수의 히스토그램\")\n",
    "plt.xlabel(\"단어수\")\n",
    "plt.ylabel(\"리뷰 개수\")\n",
    "\n",
    "\n",
    "# 로그히스토그램\n",
    "plt.subplot(1,2,2)\n",
    "plt.hist(train_word_counts, bins=50, facecolor=\"red\", alpha=0.5, label=\"word_count\")\n",
    "plt.yscale(\"log\", nonposy=\"clip\")\n",
    "plt.title(\"리뷰 단어수의 로그히스토그램\")\n",
    "plt.xlabel(\"단어수\")\n",
    "plt.ylabel(\"리뷰 개수\")\n",
    "\n",
    "plt.show()"
   ]
  },
  {
   "cell_type": "markdown",
   "metadata": {},
   "source": [
    "- 대부분의 리뷰들이 10개 미만으로 분포되어 있다."
   ]
  },
  {
   "cell_type": "code",
   "execution_count": 14,
   "metadata": {
    "ExecuteTime": {
     "end_time": "2021-01-12T12:17:59.306749Z",
     "start_time": "2021-01-12T12:17:59.296652Z"
    }
   },
   "outputs": [
    {
     "data": {
      "text/plain": [
       "count    150000.000000\n",
       "mean          7.584940\n",
       "std           6.514063\n",
       "min           1.000000\n",
       "25%           3.000000\n",
       "50%           6.000000\n",
       "75%           9.000000\n",
       "max          41.000000\n",
       "Name: document, dtype: float64"
      ]
     },
     "execution_count": 14,
     "metadata": {},
     "output_type": "execute_result"
    }
   ],
   "source": [
    "train_word_counts.describe()"
   ]
  },
  {
   "cell_type": "markdown",
   "metadata": {},
   "source": [
    "## 특수문자가 포함된 리뷰 파악\n",
    "\n",
    "---\n",
    "\n",
    "- 물음표, 느낌표가 사용된 리뷰의 개수를 파악해보자"
   ]
  },
  {
   "cell_type": "code",
   "execution_count": 15,
   "metadata": {
    "ExecuteTime": {
     "end_time": "2021-01-12T12:17:59.436011Z",
     "start_time": "2021-01-12T12:17:59.308397Z"
    }
   },
   "outputs": [
    {
     "name": "stdout",
     "output_type": "stream",
     "text": [
      "물음표가 포함된 리뷰: 8.25 %\n",
      "느낌표가 포함된 리뷰: 9.38 %\n",
      "마침표가 포함된 리뷰: 51.76 %\n"
     ]
    }
   ],
   "source": [
    "print(\"물음표가 포함된 리뷰: {:.2f} %\".format(np.mean(train_data.document.astype(str).apply(lambda x: \"?\" in x)) * 100))\n",
    "print(\"느낌표가 포함된 리뷰: {:.2f} %\".format(np.mean(train_data.document.astype(str).apply(lambda x: \"!\" in x)) * 100))\n",
    "print(\"마침표가 포함된 리뷰: {:.2f} %\".format(np.mean(train_data.document.astype(str).apply(lambda x: \".\" in x)) * 100))"
   ]
  },
  {
   "cell_type": "markdown",
   "metadata": {},
   "source": [
    "## 띄어쓰기가 안된 리뷰 파악"
   ]
  },
  {
   "cell_type": "code",
   "execution_count": 16,
   "metadata": {
    "ExecuteTime": {
     "end_time": "2021-01-12T12:18:00.059429Z",
     "start_time": "2021-01-12T12:17:59.437990Z"
    }
   },
   "outputs": [
    {
     "name": "stdout",
     "output_type": "stream",
     "text": [
      "띄어쓰기가 안된 리뷰: 8.25 %\n",
      "띄어쓰기가 안된 리뷰: 12381.00 개\n"
     ]
    },
    {
     "data": {
      "image/png": "[encoded data removed]",
      "text/plain": [
       "<Figure size 720x360 with 2 Axes>"
      ]
     },
     "metadata": {
      "needs_background": "light"
     },
     "output_type": "display_data"
    }
   ],
   "source": [
    "print(\"띄어쓰기가 안된 리뷰: {:.2f} %\".format(np.mean(train_data.document.astype(str).apply(lambda x: \" \" not in x)) * 100))\n",
    "print(\"띄어쓰기가 안된 리뷰: {:.2f} 개\".format(np.sum(train_data.document.astype(str).apply(lambda x: \" \" not in x))))\n",
    "\n",
    "no_spacing_reviews = train_data.document[train_data.document.astype(str).apply(lambda x: \" \" not in x)]\n",
    "\n",
    "\n",
    "# 박스플롯\n",
    "plt.figure(figsize=(10,5))\n",
    "plt.subplot(1,2,1)\n",
    "no_spacing_reviews.astype(str).apply(len).plot(kind=\"box\", showmeans=True)\n",
    "plt.title(\"띄어쓰기가 안된 리뷰들의 길이에 대한 상자그림\")\n",
    "\n",
    "# 로그 히스토그램\n",
    "plt.subplot(1,2,2)\n",
    "no_spacing_reviews.astype(str).apply(len).plot(kind=\"hist\", bins=50)\n",
    "plt.yscale(\"log\", nonposy=\"clip\")\n",
    "plt.title(\"띄어쓰기가 안된 리뷰들의 길이에 대한 로그 히스토그램\")\n",
    "plt.show()"
   ]
  },
  {
   "cell_type": "code",
   "execution_count": 17,
   "metadata": {
    "ExecuteTime": {
     "end_time": "2021-01-12T12:18:00.065661Z",
     "start_time": "2021-01-12T12:18:00.061359Z"
    }
   },
   "outputs": [
    {
     "data": {
      "text/plain": [
       "2         너무재밓었다그래서보는것을추천한다\n",
       "10         걍인피니트가짱이다.진짜짱이다♥\n",
       "28                     재밋는뎅\n",
       "54                    재미있어요\n",
       "56                       최고\n",
       "                ...        \n",
       "149919                    짱\n",
       "149960                 지루하다\n",
       "149961                 짠하다~\n",
       "149966                    1\n",
       "149987              재미있어요^^\n",
       "Name: document, Length: 12381, dtype: object"
      ]
     },
     "execution_count": 17,
     "metadata": {},
     "output_type": "execute_result"
    }
   ],
   "source": [
    "no_spacing_reviews"
   ]
  },
  {
   "cell_type": "markdown",
   "metadata": {},
   "source": [
    "- 약 8.25%의 리뷰들에서 띄어쓰기가 제대로 지켜지지 않았음을 알 수 있다.\n",
    "- 뒤에 사용할 형태소 분석기는 띄어쓰기를 기준으로 단어들을 분류하기 때문에 띄어쓰기가 제대로 지켜지지 않으면 학습이 제대로 이뤄지지 않을 우려가 있다."
   ]
  },
  {
   "cell_type": "markdown",
   "metadata": {},
   "source": [
    "## 리뷰 단어 빈도수 분석\n",
    "\n",
    "---\n",
    "\n",
    "- 워드클라우드 사용\n",
    "- 워드클라우드를 그리기 위해, 문자열이 아닌 데이터는 전부 삭제한다."
   ]
  },
  {
   "cell_type": "code",
   "execution_count": 18,
   "metadata": {
    "ExecuteTime": {
     "end_time": "2021-01-12T12:18:09.033578Z",
     "start_time": "2021-01-12T12:18:00.066975Z"
    }
   },
   "outputs": [
    {
     "data": {
      "image/png": "[encoded data removed]",
      "text/plain": [
       "<Figure size 864x504 with 1 Axes>"
      ]
     },
     "metadata": {
      "needs_background": "light"
     },
     "output_type": "display_data"
    }
   ],
   "source": [
    "from wordcloud import WordCloud\n",
    "\n",
    "# 문자열인 데이터만 집계\n",
    "train_review = [review for review in train_data.document if type(review) is str]\n",
    "\n",
    "# 워드클라우드 객체 생성\n",
    "wordcloud = WordCloud(font_path=WORKING_DIRECTORY + \"malgun.ttf\").generate(\" \".join(train_review))\n",
    "\n",
    "# 시각화\n",
    "plt.figure(figsize=(12,7))\n",
    "plt.imshow(wordcloud, interpolation=\"bilinear\")\n",
    "plt.axis(\"off\")\n",
    "plt.show()"
   ]
  },
  {
   "cell_type": "markdown",
   "metadata": {},
   "source": [
    "- 너무, 정말, 진짜, 영화 등의 단어가 많이 사용된 것을 알 수 있다.\n",
    "- ㅋㅋ, ㅎㅎ 등 불용어에 대한 처리가 필요할 것 같다."
   ]
  },
  {
   "cell_type": "markdown",
   "metadata": {},
   "source": [
    "# 전처리\n",
    "- 앞서 EDA를 통해 얻을 정보들을 바탕으로 데이터를 전처리를 진행해 보자."
   ]
  },
  {
   "cell_type": "code",
   "execution_count": 19,
   "metadata": {
    "ExecuteTime": {
     "end_time": "2021-01-12T12:18:09.041566Z",
     "start_time": "2021-01-12T12:18:09.035154Z"
    }
   },
   "outputs": [
    {
     "data": {
      "text/html": [
       "<div>\n",
       "<style scoped>\n",
       "    .dataframe tbody tr th:only-of-type {\n",
       "        vertical-align: middle;\n",
       "    }\n",
       "\n",
       "    .dataframe tbody tr th {\n",
       "        vertical-align: top;\n",
       "    }\n",
       "\n",
       "    .dataframe thead th {\n",
       "        text-align: right;\n",
       "    }\n",
       "</style>\n",
       "<table border=\"1\" class=\"dataframe\">\n",
       "  <thead>\n",
       "    <tr style=\"text-align: right;\">\n",
       "      <th></th>\n",
       "      <th>id</th>\n",
       "      <th>document</th>\n",
       "      <th>label</th>\n",
       "    </tr>\n",
       "  </thead>\n",
       "  <tbody>\n",
       "    <tr>\n",
       "      <th>0</th>\n",
       "      <td>9976970</td>\n",
       "      <td>아 더빙.. 진짜 짜증나네요 목소리</td>\n",
       "      <td>0</td>\n",
       "    </tr>\n",
       "    <tr>\n",
       "      <th>1</th>\n",
       "      <td>3819312</td>\n",
       "      <td>흠...포스터보고 초딩영화줄....오버연기조차 가볍지 않구나</td>\n",
       "      <td>1</td>\n",
       "    </tr>\n",
       "    <tr>\n",
       "      <th>2</th>\n",
       "      <td>10265843</td>\n",
       "      <td>너무재밓었다그래서보는것을추천한다</td>\n",
       "      <td>0</td>\n",
       "    </tr>\n",
       "    <tr>\n",
       "      <th>3</th>\n",
       "      <td>9045019</td>\n",
       "      <td>교도소 이야기구먼 ..솔직히 재미는 없다..평점 조정</td>\n",
       "      <td>0</td>\n",
       "    </tr>\n",
       "    <tr>\n",
       "      <th>4</th>\n",
       "      <td>6483659</td>\n",
       "      <td>사이몬페그의 익살스런 연기가 돋보였던 영화!스파이더맨에서 늙어보이기만 했던 커스틴 ...</td>\n",
       "      <td>1</td>\n",
       "    </tr>\n",
       "  </tbody>\n",
       "</table>\n",
       "</div>"
      ],
      "text/plain": [
       "         id                                           document  label\n",
       "0   9976970                                아 더빙.. 진짜 짜증나네요 목소리      0\n",
       "1   3819312                  흠...포스터보고 초딩영화줄....오버연기조차 가볍지 않구나      1\n",
       "2  10265843                                  너무재밓었다그래서보는것을추천한다      0\n",
       "3   9045019                      교도소 이야기구먼 ..솔직히 재미는 없다..평점 조정      0\n",
       "4   6483659  사이몬페그의 익살스런 연기가 돋보였던 영화!스파이더맨에서 늙어보이기만 했던 커스틴 ...      1"
      ]
     },
     "execution_count": 19,
     "metadata": {},
     "output_type": "execute_result"
    }
   ],
   "source": [
    "train_data.head()"
   ]
  },
  {
   "cell_type": "markdown",
   "metadata": {},
   "source": [
    "## 특수문자 처리\n",
    "\n",
    "---\n",
    "\n",
    "- 정규표현식을 이용해 사용되지 않는 특수문자들을 제거해준다."
   ]
  },
  {
   "cell_type": "code",
   "execution_count": 20,
   "metadata": {
    "ExecuteTime": {
     "end_time": "2021-01-12T12:18:09.046381Z",
     "start_time": "2021-01-12T12:18:09.043193Z"
    }
   },
   "outputs": [
    {
     "data": {
      "text/plain": [
       "'아 더빙.. 진짜 짜증나네요 목소리'"
      ]
     },
     "execution_count": 20,
     "metadata": {},
     "output_type": "execute_result"
    }
   ],
   "source": [
    "train_data.document[0]"
   ]
  },
  {
   "cell_type": "code",
   "execution_count": 21,
   "metadata": {
    "ExecuteTime": {
     "end_time": "2021-01-12T12:18:09.827362Z",
     "start_time": "2021-01-12T12:18:09.047848Z"
    },
    "scrolled": true
   },
   "outputs": [],
   "source": [
    "import re\n",
    "\n",
    "# 마침표, 느낌표, 물음표 등을 띄어쓰기 한칸으로 대체\n",
    "review_text = [re.sub(\"[\\.!?]+\", \" \", str(review)) for review in train_data.document]\n",
    "\n",
    "# 한글, 숫자 제외하고 전부 제거\n",
    "review_text = [re.sub(\"[^[가-힣\\d]+\", \" \", str(review)) for review in review_text ]"
   ]
  },
  {
   "cell_type": "code",
   "execution_count": 22,
   "metadata": {
    "ExecuteTime": {
     "end_time": "2021-01-12T12:18:09.832538Z",
     "start_time": "2021-01-12T12:18:09.829301Z"
    },
    "scrolled": false
   },
   "outputs": [
    {
     "data": {
      "text/plain": [
       "['아 더빙 진짜 짜증나네요 목소리',\n",
       " '흠 포스터보고 초딩영화줄 오버연기조차 가볍지 않구나',\n",
       " '너무재밓었다그래서보는것을추천한다',\n",
       " '교도소 이야기구먼 솔직히 재미는 없다 평점 조정',\n",
       " '사이몬페그의 익살스런 연기가 돋보였던 영화 스파이더맨에서 늙어보이기만 했던 커스틴 던스트가 너무나도 이뻐보였다',\n",
       " '막 걸음마 뗀 3세부터 초등학교 1학년생인 8살용영화 별반개도 아까움 ',\n",
       " '원작의 긴장감을 제대로 살려내지못했다 ',\n",
       " '별 반개도 아깝다 욕나온다 이응경 길용우 연기생활이몇년인지 정말 발로해도 그것보단 낫겟다 납치 감금만반복반복 이드라마는 가족도없다 연기못하는사람만모엿네',\n",
       " '액션이 없는데도 재미 있는 몇안되는 영화',\n",
       " '왜케 평점이 낮은건데 꽤 볼만한데 헐리우드식 화려함에만 너무 길들여져 있나 ']"
      ]
     },
     "execution_count": 22,
     "metadata": {},
     "output_type": "execute_result"
    }
   ],
   "source": [
    "review_text[:10]"
   ]
  },
  {
   "cell_type": "code",
   "execution_count": 23,
   "metadata": {
    "ExecuteTime": {
     "end_time": "2021-01-12T12:18:10.144372Z",
     "start_time": "2021-01-12T12:18:09.834329Z"
    }
   },
   "outputs": [],
   "source": [
    "# 테스트 데이터에도 마찬가지로 적용\n",
    "\n",
    "# 마침표, 느낌표, 물음표 등을 띄어쓰기 한칸으로 대체\n",
    "review_text_test = [re.sub(\"[\\.!?]+\", \" \", str(review)) for review in test_data.document]\n",
    "\n",
    "# 한글, 숫자 제외하고 전부 제거\n",
    "review_text_test = [re.sub(\"[^[가-힣\\d]+\", \" \", str(review)) for review in review_text_test]\n",
    "\n",
    "np.save(open(\"./korean_reviews_test.txt\", \"wb\"), review_text_test)"
   ]
  },
  {
   "cell_type": "markdown",
   "metadata": {},
   "source": [
    "## 띄어쓰기, 맞춤법 교정\n",
    "\n",
    "---\n",
    "\n",
    "앞서 EDA 과정에서 띄어쓰기와 맞춤법이 제대로 지켜지지 않은 데이터들이 꽤 있는 것을 확인할 수 있었다. 이는 아무래도 인터넷 리뷰의 특성상 은어, 오타 등이 빈번히 발생하기 때문일 것 같다. \n",
    "\n",
    "---\n",
    "다행히도, 이러한 문제를 해결할 수 있는 패키지가 존재한다. 띄어쓰기를 자동으로 교정해주는 패키지에는 대표적으로 [PyKoSpacing](https://github.com/haven-jeon/PyKoSpacing) 이 있고, 맞춤법을 체크해주는 패키지로는 [Han-Spell](https://github.com/ssut/py-hanspell) 이 있다.\n",
    "\n",
    "각각의 패키지는 다음과 같이 다운받을 수 있다\n",
    "\n",
    "- PyKoSpacing: ```!pip install git+https://github.com/haven-jeon/PyKoSpacing.git```\n",
    "\n",
    "- Py-Hanspell: ```!pip install git+https://github.com/ssut/py-hanspell.git```\n",
    "\n",
    "---\n",
    "\n",
    "Py-Hanspell은 맞춤법과 띄어쓰기를 동시에 체크해주긴 하지만 정확성을 위해 PyKoSpacing으로 띄어쓰기를 교정한 다음에 Py-Hanspell을 이용해 맞춤법을 교정해주도록 하겠다.\n",
    "\n",
    "https://wikidocs.net/92961\n"
   ]
  },
  {
   "cell_type": "code",
   "execution_count": 24,
   "metadata": {
    "ExecuteTime": {
     "end_time": "2021-01-12T12:18:10.149437Z",
     "start_time": "2021-01-12T12:18:10.146396Z"
    }
   },
   "outputs": [
    {
     "data": {
      "text/plain": [
       "'별 반개도 아깝다 욕나온다 이응경 길용우 연기생활이몇년인지 정말 발로해도 그것보단 낫겟다 납치 감금만반복반복 이드라마는 가족도없다 연기못하는사람만모엿네'"
      ]
     },
     "execution_count": 24,
     "metadata": {},
     "output_type": "execute_result"
    }
   ],
   "source": [
    "# 예시 리뷰 문장\n",
    "review_text[7]"
   ]
  },
  {
   "cell_type": "code",
   "execution_count": 25,
   "metadata": {
    "ExecuteTime": {
     "end_time": "2021-01-12T12:18:15.194779Z",
     "start_time": "2021-01-12T12:18:10.151063Z"
    }
   },
   "outputs": [
    {
     "data": {
      "text/plain": [
       "'별 반개도 아깝다 욕 나온 다 이 응경 길용우 연기생활이 몇 년인지 정말 발로 해도 그것보단 낫겟다 납치 감금만 반복 반복 이 드라마는 가족도 없다 연기 못하는 사람만 모엿네'"
      ]
     },
     "execution_count": 25,
     "metadata": {},
     "output_type": "execute_result"
    }
   ],
   "source": [
    "# pykospacing을 이용해 띄어쓰기 교정 \n",
    "from pykospacing import spacing\n",
    "\n",
    "sent = review_text[7]\n",
    "sent = spacing(sent)\n",
    "sent"
   ]
  },
  {
   "cell_type": "code",
   "execution_count": 26,
   "metadata": {
    "ExecuteTime": {
     "end_time": "2021-01-12T12:18:15.326203Z",
     "start_time": "2021-01-12T12:18:15.196185Z"
    }
   },
   "outputs": [
    {
     "name": "stdout",
     "output_type": "stream",
     "text": [
      "별 반 개도 아깝다 욕 나온 다 이 음경 길용우 연기생활이 몇 년인지 정말 발로해도 그것보단 낫겠다 납치 감금만 반복 반복 이 드라마는 가족도 없다 연기 못하는 사람만 모였네\n"
     ]
    }
   ],
   "source": [
    "# hanspell을 이용해 맞춤법 교정\n",
    "\n",
    "from hanspell import spell_checker\n",
    "\n",
    "spelled_sent = spell_checker.check(sent)\n",
    "hanspell_sent = spelled_sent.checked\n",
    "print(hanspell_sent)"
   ]
  },
  {
   "cell_type": "markdown",
   "metadata": {},
   "source": [
    "- 이런식으로 각 리뷰마다 띄어쓰기와 맞춤법을 교정해주자. 편의를 위해 함수로 추상화시킨다."
   ]
  },
  {
   "cell_type": "code",
   "execution_count": 27,
   "metadata": {
    "ExecuteTime": {
     "end_time": "2021-01-12T12:18:24.432823Z",
     "start_time": "2021-01-12T12:18:15.329110Z"
    },
    "scrolled": true
   },
   "outputs": [],
   "source": [
    "# 추상화\n",
    "\n",
    "def preprocessing1(text):\n",
    "    sent = spacing(text)\n",
    "    spelled_sent = spell_checker.check(sent)\n",
    "    return spelled_sent.checked\n",
    "\n",
    "def review_correction(review_list):\n",
    "    correct = []\n",
    "    error = []\n",
    "    for review in pd.Series(review_list):\n",
    "        try:\n",
    "            correct.append(preprocessing1(review))\n",
    "        except:\n",
    "            error.append(review.index)\n",
    "            print(\"에러발생\")\n",
    "            \n",
    "        if len(correct) % 1000 == 0:\n",
    "            print(\"{}/{} 개 완료\".format(len(correct), len(review_list)))\n",
    "            \n",
    "    return {\"correct\": correct, \"error\": error}\n",
    "\n",
    "clean_review1 = review_correction(review_text[:100])"
   ]
  },
  {
   "cell_type": "code",
   "execution_count": 28,
   "metadata": {
    "ExecuteTime": {
     "end_time": "2021-01-12T12:18:24.441957Z",
     "start_time": "2021-01-12T12:18:24.435201Z"
    }
   },
   "outputs": [
    {
     "data": {
      "text/plain": [
       "{'correct': ['아 더빙 진짜 짜증 나네요 목소리',\n",
       "  '흠 포스터 보고 초등학생 영화 줄 오버 연기조차 가볍지 않구나',\n",
       "  '너무 재밓었다 그래서 보는 것을 추천한다',\n",
       "  '교도소 이야기구먼 솔직히 재미는 없다 평점 조정',\n",
       "  '사이먼 페그의 익살스러운 연기가 돋보였던 영화 스파이더맨에서 늙어 보이기만 했던 커스틴 던스트가 너무나도 이 뻐보였다',\n",
       "  '막 걸음마 뗀 3세부터 초등학교 1학년생인 8살 용 영화 별 반 개도 아까움',\n",
       "  '원작의 긴장감을 제대로 살려내지 못했다',\n",
       "  '별 반 개도 아깝다 욕 나온 다 이 음경 길용우 연기생활이 몇 년인지 정말 발로해도 그것보단 낫겠다 납치 감금만 반복 반복 이 드라마는 가족도 없다 연기 못하는 사람만 모였네',\n",
       "  '액션이 없는데도 재미있는 몇 안 되는 영화',\n",
       "  '왜 케 평점이 낮은 건데 꽤 볼만한 데 할리우드식 화려함에만 너무 길들여져 있나',\n",
       "  '그냥 인피니트가 짱이 다 진짜 짱이 다',\n",
       "  '볼 때마다 눈물 나서 죽겠다 90년대의 향수 자극 허진호는 감성절 제 멜로의 달인이 다',\n",
       "  '울면서 손들고 횡단보도 건널 때 뛰쳐나올 뻔 이 범수 연기 더럽게 못해',\n",
       "  '담백하고 깔끔해서 좋다 신문 기사로만 보다 보면 자꾸 잊어버린 다 그들도 사람이었다는 것을',\n",
       "  '취향은 존중한 다지만 진짜 내 생에 극장에서 본 영화 중 가장 나 잼 노 감동임 스토리도 억지고 감동도 억지',\n",
       "  '냥 매번 긴장되고 재밌음',\n",
       "  '참 사람들 웃긴 게 바스코가 이기면 락스 코라고 까고 바비가 이기면 아이돌이라고 깐 다 그냥 까고 싶어서 안 달란 것처럼 보인다',\n",
       "  '굿바이 레닌 표절인 것은 이해하는데 왜 뒤로 갈수록 재미 없어지냐',\n",
       "  '이건 정말 깨알 캐스팅과 질퍽하지 않은 산뜻한 내용 구성이 잘 버무려진 깨알 일드',\n",
       "  '약탈자를 위한 변명이라 저놈들은 착 한 놈들 절대 아닌 걸 요',\n",
       "  '나름 심오한 뜻도 있는 듯 그냥 학생이 선생과 놀아나는 영화는 절대 아님',\n",
       "  '보면서 웃 지 않는 건 불가능하다',\n",
       "  '재미없다 지루하고 같은 음식 영화인데도 바베트의 만찬하고 너무 차 이 남 바베트의 만찬은 이야기도 있고 음식 보는 재미도 있는데 이건 볼 게 없다 음식도 별로 안 나오고 핀란드 풍경이라도 구경할 랫는 데 그것도 별로 안 나옴',\n",
       "  '절대 평범한 영화가 아닌 수작이라는 걸 말씀드립니다',\n",
       "  '주제는 좋은데 중반부터 지루하다',\n",
       "  '다 잘랐을 거야 그래서 납득할 수 없었던 거야 그럴 거야 꼭 그랬던 걸 거야',\n",
       "  '2 고추를 털어버려야 할 텐데',\n",
       "  '카밀 라벨 발연기',\n",
       "  '재밌는 뎅',\n",
       "  '센스 있는 연출력 탁월한 캐스팅 90년대의 향 수 그래서 9점',\n",
       "  '엄포스의 위력을 다시 한 번 깨닫게 해준 적 남 꽃 검사님도 연기 정말 좋았어요 완전 명품 드라마',\n",
       "  '졸 쓰레기 진부하고 말도 안됨 아 시간 아까워',\n",
       "  '재밌는데 별점이 왜 이리 낮은 고',\n",
       "  '1 라도 기대했던 내가 죄인입니다 죄인입니다',\n",
       "  '아직도 이 드라마는 내 인생의 최고',\n",
       "  '패션에 대한 열정 안 나 윈투어',\n",
       "  '키이라 나 이틀 리가 연기하고자 했던 건 대체 정신장애일까 틱장애일까',\n",
       "  '허허 원 작가 정신 나간 유령이라 재미있겠네요',\n",
       "  '포스터는 있어 보이는데 관객은 114명이네',\n",
       "  '이 영화가 왜 이렇게 저평가 받는지 모르겠다',\n",
       "  '단순하면서 은은한 매력의 영화',\n",
       "  '다 아르바이트생인 가 내용도 없고 무서운 거도 없고 웃긴 거도 하나도 없음 완전 별 싱거운 영화 내 시간 너무 아까움 정말 낚임',\n",
       "  '오게 두어라 소리 한 이 굶주렸다',\n",
       "  '정말 맘에 들어 요 그래서 또 보고 싶은데 또 보는 방법이 없네',\n",
       "  '윤제문이라는 멋진 배우를 발견하게 됐어요 소소한 일탈이 잔잔한 미소를 머금 게 합니다 음악은 조금 아쉽네요 8점 주고 싶은데 평점 올리고 싶어 10점 줄게요',\n",
       "  '평점에 속지 마시길 시간 낭비 돈 낭비임',\n",
       "  '리얼리티가 뛰어나 긴 한데 큰 공감은 안 간 다 이민기 캐릭터는 정신의학상 분노조절 장애 초기 증상일 거다 툭하면 사람 패고 욕하고 물건 파손하고 조금 오버였음 극 초반엔 신선했는데 가면 갈수록 이 민기 정신 상태 공감 불가',\n",
       "  '마이너스는 왜 없냐 뮤비 보고 영화 수준 딱 알만 하더군 북한에서 이런 거 만들라고 돈 대주던',\n",
       "  '난 우리 영화를 사랑합니다',\n",
       "  '데너 리스 타르 가트엔 나도 용의 주인이 되고 싶다 누이랑 근친상 간이나 하고 다닐지라도 소설 속에선 제일 멋진 놈이 자 이 메 라디스 터였는데 드라마 속에선 드래건 용 이 제일 멋지네 웃음 감독님 토르 2 다크 월드는 말아 잡수셨을지라도 기본 선방은 했음',\n",
       "  '영화가 사람의 영혼을 어루만져 줄 수도 있군 요 거친 세상사를 잠시 잊고 동화 같은 영화에 행복했네요',\n",
       "  '야 세르게이 작은 고추의 매운맛을 보여주마 파퐁 저그 통진 호가 간다',\n",
       "  '이렇게 가슴 시리게 본 드라마가 또 있을까 감동 그 자체',\n",
       "  '난 또 저 꼬마 애가 무슨 원한 이 깊길래 했더니 그냥 혼자 나 대다 걸 어쩌라고',\n",
       "  '재미있어요',\n",
       "  '전 좋아요',\n",
       "  '최고',\n",
       "  '너무 충격적이었다 기분을 완전히 푹 꺼지게 하는 느낌 활력이라고는 하나도 없는 너무나도 무거운 지독하고 차갑고 무자비하다 그저 일본인들의 상상력은 정말 대단한 거 같다는 생각이 든 다',\n",
       "  '심심한 영화',\n",
       "  '백봉기 언제나 오나요',\n",
       "  '보는 내내 그대로 들어맞는 예측 카리스마 없는 악역',\n",
       "  '불알이 나와서 당황 아무튼 영화가 중간에 끝나는 느낌',\n",
       "  '평범함 속에 녹아든 평범한 일상 조금 밋밋한 게 흠',\n",
       "  '보던 거라 계속 보고 있는데 전개도 느리고 주인공인 은희는 한두 컷 나오면서 소극적인 모습에 짜증이 맨날 언제 끝나 나 기 대만 하고 있어요 전개 좀 빨리빨리',\n",
       "  '사랑하고 싶게 하는 가슴속 온 감정을 헤집어 놓는 영화 예 요 정말 최고',\n",
       "  '많은 사람들이 이 다큐를 보고 우리나라 슬픈 현대사의 한 단면에 대해 깊이 생각하고 사죄하고 바로잡기 위해 노력했으면 합니다 말로만 듣던 보도연맹 그 민간인 학살이 이 정도 일 줄이야 이건 명백한 살인입니다 살인자들은 다 어디 있나요',\n",
       "  '예전 작품 캐릭터 에피소드 재탕 삼탕 사골 우려먹듯 우리 고 내용은 산으로 가 고 시청률은 아예 안 나오고 이제 70회 중반인데 120부작이라니',\n",
       "  '김남길의 백 점짜리 연기력과 초반 몰입도에도 불구하고 지루하고 손예진',\n",
       "  '재밌네 비슷한 영화를 안 보신 분들한테는 재미있을 듯',\n",
       "  '노래 실력으로 뽑는 게 맞냐 박시환이 나가면 진짜 망신이다',\n",
       "  '아 일본 영화 다 이런 건 가 유치하다',\n",
       "  '이틀 만에 다 봤어요 재밌어요 근데 차 안에 물건 넣어 조작하려고 하면 차 안이 열려 있다든지 집 안이 활짝 열려서 아무나 들어간다던가 문자를 조작하려고 하면 비번이 안 걸려 있고 그런 건 억지스러웠는데 그래도 내용 자체는 좋았어요',\n",
       "  '졸작',\n",
       "  '재밌네요 달팽이가 빨라서 더 재밌었어요',\n",
       "  '어설픈 전개 어이없는 결말',\n",
       "  '부패한 로마노프 왕조를 기리는 뭣 같은 영화 온몸으로 항거했던 러시아 민중들이 그저 폭도냐',\n",
       "  '내용 전개는 무난한 편이였고 잘 보았습니다',\n",
       "  '매우 실망',\n",
       "  '한국 영화 흥행코드 갈등 갈등 계에 속 갈등 화해 감동 평점 10점 남발 흥행 뻔하지 뭐',\n",
       "  '아햏햏 아햏햏 아햏햏',\n",
       "  '뭐냐 시작하고 3분 만에 나왔다 리플릿 사진 보며 불안하더니만',\n",
       "  '단연 최고라고 할 수 있지',\n",
       "  '감독이 럼 먹고 영화를 만들었나 보다 관객에게 뭘 말하는지도 모르겠고 엉망진창 깨진 창이 다',\n",
       "  '이건 뭐냐 우레 매냐',\n",
       "  '정말 쓰레기 영화입니다',\n",
       "  '진정 위대한 영화 최고임',\n",
       "  '별 누였다',\n",
       "  '내일이 기대되는',\n",
       "  '근데 조미가 박문 위 좋아한 건가요',\n",
       "  '진짜 골 깜 눈 부라릴 때 쓰러짐',\n",
       "  '성룡 영화 중 최악인 듯',\n",
       "  '골 때 리네 걸스데이 이 혜리 잘 되라',\n",
       "  '서기가 이뻐서',\n",
       "  '정말 재밌어요 백인 공주 귀여움',\n",
       "  '인상적인 영화였다',\n",
       "  '아내 스트와 셀레스티 완전 강추에 요 정말 재밌습니다',\n",
       "  '재미있는 영화입니다',\n",
       "  '클라라 보려고 화신 본 거 아닌데',\n",
       "  '진짜 보면서 너무 슬펐던 영화다',\n",
       "  '설정이 재밌고 새로운 에피소드 내에서 메인 스토리도 차차 나오는 게 재밌음'],\n",
       " 'error': []}"
      ]
     },
     "execution_count": 28,
     "metadata": {},
     "output_type": "execute_result"
    }
   ],
   "source": [
    "# 교정된 리뷰 데이터 예시\n",
    "clean_review1"
   ]
  },
  {
   "cell_type": "markdown",
   "metadata": {},
   "source": [
    "- `review_correction` 함수를 사용하면 위의 예시와 같이 딕셔너리의 형태로 교정된 리뷰와 에러가 발생한 리뷰의 인덱스 번호가 반환된다. 진행 여부를 파악하기 위해 1,000개의 리뷰 당 한번씩 출력을 하도록 설정했다.\n",
    "- 함수의 실행 시간이 꽤나 오래걸리기 때문에 사전에 실행 완료된 파일을 가져와서 실습을 마저 진행하도록 한다."
   ]
  },
  {
   "cell_type": "code",
   "execution_count": 29,
   "metadata": {
    "ExecuteTime": {
     "end_time": "2021-01-12T12:18:25.023087Z",
     "start_time": "2021-01-12T12:18:24.444229Z"
    }
   },
   "outputs": [],
   "source": [
    "# 학습 데이터 불러오기\n",
    "import json\n",
    "with open(\"./clean_train.json\") as json_file:\n",
    "    clean_train = json.load(json_file)\n",
    "    \n",
    "# 테스트 데이터 불러오기\n",
    "import json\n",
    "with open(\"./clean_test.json\") as json_file:\n",
    "    clean_test = json.load(json_file)"
   ]
  },
  {
   "cell_type": "code",
   "execution_count": 30,
   "metadata": {
    "ExecuteTime": {
     "end_time": "2021-01-12T12:18:25.195470Z",
     "start_time": "2021-01-12T12:18:25.025074Z"
    }
   },
   "outputs": [],
   "source": [
    "# 에러뜬 리뷰들 삭제\n",
    "failed_index_train = clean_train[\"error\"]\n",
    "train_data = pd.DataFrame({\"review\": clean_train[\"correct\"], \n",
    "                           \"label\": train_data.drop(failed_index_train, axis=0).label})\n",
    "\n",
    "failed_index_test = clean_test[\"error\"]\n",
    "test_data = pd.DataFrame({\"review\": clean_test[\"correct\"], \n",
    "                           \"label\": test_data.drop(failed_index_test, axis=0).label})\n",
    "\n",
    "\n",
    "# 전처리 과정에서 텍스트가 완전히 사라진 리뷰들 삭제\n",
    "train_data = train_data[train_data.review != \"\"]\n",
    "test_data = test_data[test_data.review != \"\"]"
   ]
  },
  {
   "cell_type": "code",
   "execution_count": 31,
   "metadata": {
    "ExecuteTime": {
     "end_time": "2021-01-12T12:18:25.214163Z",
     "start_time": "2021-01-12T12:18:25.197610Z"
    }
   },
   "outputs": [
    {
     "data": {
      "text/html": [
       "<div>\n",
       "<style scoped>\n",
       "    .dataframe tbody tr th:only-of-type {\n",
       "        vertical-align: middle;\n",
       "    }\n",
       "\n",
       "    .dataframe tbody tr th {\n",
       "        vertical-align: top;\n",
       "    }\n",
       "\n",
       "    .dataframe thead th {\n",
       "        text-align: right;\n",
       "    }\n",
       "</style>\n",
       "<table border=\"1\" class=\"dataframe\">\n",
       "  <thead>\n",
       "    <tr style=\"text-align: right;\">\n",
       "      <th></th>\n",
       "      <th>review</th>\n",
       "      <th>label</th>\n",
       "    </tr>\n",
       "  </thead>\n",
       "  <tbody>\n",
       "    <tr>\n",
       "      <th>0</th>\n",
       "      <td>아 더빙 진짜 짜증 나네요 목소리</td>\n",
       "      <td>0</td>\n",
       "    </tr>\n",
       "    <tr>\n",
       "      <th>1</th>\n",
       "      <td>흠 포스터 보고 초등학생 영화 줄 오버 연기조차 가볍지 않구나</td>\n",
       "      <td>1</td>\n",
       "    </tr>\n",
       "    <tr>\n",
       "      <th>2</th>\n",
       "      <td>너무 재밓었다 그래서 보는 것을 추천한다</td>\n",
       "      <td>0</td>\n",
       "    </tr>\n",
       "    <tr>\n",
       "      <th>3</th>\n",
       "      <td>교도소 이야기구먼 솔직히 재미는 없다 평점 조정</td>\n",
       "      <td>0</td>\n",
       "    </tr>\n",
       "    <tr>\n",
       "      <th>4</th>\n",
       "      <td>사이먼 페그의 익살스러운 연기가 돋보였던 영화 스파이더맨에서 늙어 보이기만 했던 커...</td>\n",
       "      <td>1</td>\n",
       "    </tr>\n",
       "    <tr>\n",
       "      <th>...</th>\n",
       "      <td>...</td>\n",
       "      <td>...</td>\n",
       "    </tr>\n",
       "    <tr>\n",
       "      <th>149995</th>\n",
       "      <td>인간이 문제지 소는 뭔 죄인가</td>\n",
       "      <td>0</td>\n",
       "    </tr>\n",
       "    <tr>\n",
       "      <th>149996</th>\n",
       "      <td>평점이 너무 낮아서</td>\n",
       "      <td>1</td>\n",
       "    </tr>\n",
       "    <tr>\n",
       "      <th>149997</th>\n",
       "      <td>이게 뭐 요 한국인은 거들 먹거리고 필리핀 혼혈은 착하다</td>\n",
       "      <td>0</td>\n",
       "    </tr>\n",
       "    <tr>\n",
       "      <th>149998</th>\n",
       "      <td>청춘 영화의 최고봉 방황과 우울했던 날들의 자화상</td>\n",
       "      <td>1</td>\n",
       "    </tr>\n",
       "    <tr>\n",
       "      <th>149999</th>\n",
       "      <td>한국 영화 최초로 수간하는 내용이 담긴 영화</td>\n",
       "      <td>0</td>\n",
       "    </tr>\n",
       "  </tbody>\n",
       "</table>\n",
       "<p>148523 rows × 2 columns</p>\n",
       "</div>"
      ],
      "text/plain": [
       "                                                   review  label\n",
       "0                                      아 더빙 진짜 짜증 나네요 목소리      0\n",
       "1                      흠 포스터 보고 초등학생 영화 줄 오버 연기조차 가볍지 않구나      1\n",
       "2                                  너무 재밓었다 그래서 보는 것을 추천한다      0\n",
       "3                              교도소 이야기구먼 솔직히 재미는 없다 평점 조정      0\n",
       "4       사이먼 페그의 익살스러운 연기가 돋보였던 영화 스파이더맨에서 늙어 보이기만 했던 커...      1\n",
       "...                                                   ...    ...\n",
       "149995                                   인간이 문제지 소는 뭔 죄인가      0\n",
       "149996                                         평점이 너무 낮아서      1\n",
       "149997                    이게 뭐 요 한국인은 거들 먹거리고 필리핀 혼혈은 착하다      0\n",
       "149998                        청춘 영화의 최고봉 방황과 우울했던 날들의 자화상      1\n",
       "149999                           한국 영화 최초로 수간하는 내용이 담긴 영화      0\n",
       "\n",
       "[148523 rows x 2 columns]"
      ]
     },
     "execution_count": 31,
     "metadata": {},
     "output_type": "execute_result"
    }
   ],
   "source": [
    "train_data"
   ]
  },
  {
   "cell_type": "code",
   "execution_count": 32,
   "metadata": {
    "ExecuteTime": {
     "end_time": "2021-01-12T12:18:25.233884Z",
     "start_time": "2021-01-12T12:18:25.217220Z"
    }
   },
   "outputs": [
    {
     "data": {
      "text/html": [
       "<div>\n",
       "<style scoped>\n",
       "    .dataframe tbody tr th:only-of-type {\n",
       "        vertical-align: middle;\n",
       "    }\n",
       "\n",
       "    .dataframe tbody tr th {\n",
       "        vertical-align: top;\n",
       "    }\n",
       "\n",
       "    .dataframe thead th {\n",
       "        text-align: right;\n",
       "    }\n",
       "</style>\n",
       "<table border=\"1\" class=\"dataframe\">\n",
       "  <thead>\n",
       "    <tr style=\"text-align: right;\">\n",
       "      <th></th>\n",
       "      <th>review</th>\n",
       "      <th>label</th>\n",
       "    </tr>\n",
       "  </thead>\n",
       "  <tbody>\n",
       "    <tr>\n",
       "      <th>0</th>\n",
       "      <td>굳</td>\n",
       "      <td>1</td>\n",
       "    </tr>\n",
       "    <tr>\n",
       "      <th>2</th>\n",
       "      <td>뭐 야 이 평점들은 나쁘진 않지만 10점짜리는 더더욱 아니잖아</td>\n",
       "      <td>0</td>\n",
       "    </tr>\n",
       "    <tr>\n",
       "      <th>3</th>\n",
       "      <td>지루하지는 않은데 완전 막장임 돈 주고 보기에는</td>\n",
       "      <td>0</td>\n",
       "    </tr>\n",
       "    <tr>\n",
       "      <th>4</th>\n",
       "      <td>3만 아니었어도 별 다섯 개 줬을 텐데 왜 3로 나와서 제 심기를 불편하게 하죠</td>\n",
       "      <td>0</td>\n",
       "    </tr>\n",
       "    <tr>\n",
       "      <th>5</th>\n",
       "      <td>음악이 주가 된 최고의 음악영화</td>\n",
       "      <td>1</td>\n",
       "    </tr>\n",
       "    <tr>\n",
       "      <th>...</th>\n",
       "      <td>...</td>\n",
       "      <td>...</td>\n",
       "    </tr>\n",
       "    <tr>\n",
       "      <th>49995</th>\n",
       "      <td>오랜만에 평점 로그인 했네 킹왕짱 쌈뽕한 영화를 만났습니다 강렬하게 유쾌함</td>\n",
       "      <td>1</td>\n",
       "    </tr>\n",
       "    <tr>\n",
       "      <th>49996</th>\n",
       "      <td>의지박약들이나 하는 거 다 탈영은 일단 주인공 김대희 닮았고 이 등 병 찐 따</td>\n",
       "      <td>0</td>\n",
       "    </tr>\n",
       "    <tr>\n",
       "      <th>49997</th>\n",
       "      <td>그림도 좋고 완성도도 높았지만 보는 내내 불안하게 만든다</td>\n",
       "      <td>0</td>\n",
       "    </tr>\n",
       "    <tr>\n",
       "      <th>49998</th>\n",
       "      <td>절대 봐서는 안 될 영화 재미도 없고 기분만 잡치고 한 세트장에서 다 해 먹네</td>\n",
       "      <td>0</td>\n",
       "    </tr>\n",
       "    <tr>\n",
       "      <th>49999</th>\n",
       "      <td>마무리는 또 왜 이래</td>\n",
       "      <td>0</td>\n",
       "    </tr>\n",
       "  </tbody>\n",
       "</table>\n",
       "<p>49485 rows × 2 columns</p>\n",
       "</div>"
      ],
      "text/plain": [
       "                                             review  label\n",
       "0                                                 굳      1\n",
       "2                뭐 야 이 평점들은 나쁘진 않지만 10점짜리는 더더욱 아니잖아      0\n",
       "3                        지루하지는 않은데 완전 막장임 돈 주고 보기에는      0\n",
       "4      3만 아니었어도 별 다섯 개 줬을 텐데 왜 3로 나와서 제 심기를 불편하게 하죠      0\n",
       "5                                 음악이 주가 된 최고의 음악영화      1\n",
       "...                                             ...    ...\n",
       "49995     오랜만에 평점 로그인 했네 킹왕짱 쌈뽕한 영화를 만났습니다 강렬하게 유쾌함      1\n",
       "49996   의지박약들이나 하는 거 다 탈영은 일단 주인공 김대희 닮았고 이 등 병 찐 따      0\n",
       "49997               그림도 좋고 완성도도 높았지만 보는 내내 불안하게 만든다      0\n",
       "49998   절대 봐서는 안 될 영화 재미도 없고 기분만 잡치고 한 세트장에서 다 해 먹네      0\n",
       "49999                                   마무리는 또 왜 이래      0\n",
       "\n",
       "[49485 rows x 2 columns]"
      ]
     },
     "execution_count": 32,
     "metadata": {},
     "output_type": "execute_result"
    }
   ],
   "source": [
    "test_data"
   ]
  },
  {
   "cell_type": "markdown",
   "metadata": {},
   "source": [
    "## 불용어 처리\n",
    "\n",
    "---\n",
    "- 한국어는 영어와는 다르게 별도로 불용어 사전이 존재하지 않는다.\n",
    "- [다음의 논문](https://www.kci.go.kr/kciportal/ci/sereArticleSearch/ciSereArtiView.kci?sereArticleSearchBean.artiId=ART002390885)을 참고하여 불용어 사전을 정의한다. (길호현. 2018. 텍스트마이닝을 위한 한국어 불용어 목록 연구. 우리말글학회, 78, 20-21)\n"
   ]
  },
  {
   "cell_type": "code",
   "execution_count": 33,
   "metadata": {
    "ExecuteTime": {
     "end_time": "2021-01-12T12:18:25.246455Z",
     "start_time": "2021-01-12T12:18:25.238619Z"
    }
   },
   "outputs": [],
   "source": [
    "stopwords = \"\"\"가량, 가지, 각, 간, 갖은, 개, 개국, 개년, 개소, 개월, 걔, 거, 거기, 거리, 건, 것, 겨를, 격,\n",
    "겸, 고, 군, 군데, 권, 그, 그거, 그것, 그곳, 그까짓, 그네, 그녀, 그놈, 그대, 그래, 그래도,\n",
    "그서, 그러나, 그러니, 그러니까, 그러다가, 그러면, 그러면서, 그러므로, 그러자, 그런, 그런데,\n",
    "그럼, 그렇지만, 그루, 그리고, 그리하여, 그분, 그이, 그쪽, 근, 근데, 글쎄, 글쎄요, 기,\n",
    "김, 나, 나름, 나위, 남짓, 내, 냥, 너, 너희, 네, 네놈, 녀석, 년, 년대, 년도, 놈, 누구, 니,\n",
    "다른, 다만, 단, 달, 달러, 당신, 대, 대로, 더구나, 더욱이, 데, 도, 동, 되, 두, 두세, 두어,\n",
    "둥, 듯, 듯이, 등, 등등, 등지, 따라서, 따름, 따위, 딴, 때문, 또, 또는, 또한, 리, 마당, 마련,\n",
    "마리, 만, 만큼, 말, 매, 맨, 명, 몇, 몇몇, 모, 모금, 모든, 무렵, 무슨, 무엇, 뭐, 뭣, 미터,\n",
    "및, 바, 바람, 바퀴, 박, 발, 발짝, 번, 벌, 법, 별, 본, 부, 분, 뻔, 뿐, 살, 새, 서너, 석, 설,\n",
    "섬, 세, 세기, 셈, 쇤네, 수, 순, 스무, 승, 시, 시간, 식, 씨, 아, 아냐, 아니, 아니야, 아무,\n",
    "아무개, 아무런, 아아, 아이, 아이고, 아이구, 야, 약, 양, 얘, 어, 어느, 어디, 어머, 언제, 에이,\n",
    "엔, 여기, 여느, 여러, 여러분, 여보, 여보세요, 여지, 역시, 예, 옛, 오, 오랜, 오히려, 온, 온갖,\n",
    "올, 왜냐하면, 왠, 외, 요, 우리, 원, 월, 웬, 위, 음, 응, 이, 이거, 이것, 이곳, 이놈, 이래,\n",
    "이런, 이런저런, 이른바, 이리하여, 이쪽, 일, 일대, 임마, 자, 자기, 자네, 장, 저, 저것, 저기,\n",
    "저놈, 저런, 저쪽, 저편, 저희, 적, 전, 점, 제, 조, 주, 주년, 주일, 줄, 중, 즈음, 즉, 지, 지경,\n",
    "지난, 집, 짝, 쪽, 쯤, 차, 참, 채, 척, 첫, 체, 초, 총, 측, 치, 큰, 킬로미터, 타, 터, 턱, 톤,\n",
    "통, 투, 판, 퍼센트, 편, 평, 푼, 하기야, 하긴, 하물며, 하지만, 한, 한두, 한편, 허허, 헌, 현,\n",
    "호, 혹은, 회, 흥, 케, 다,\n",
    "\"\"\"\n",
    "\n",
    "stopwords = stopwords.replace(\"\\n\", \" \")\n",
    "stopwords = stopwords.split(\", \")\n",
    "\n",
    "np.save(open(\"./불용어사전.txt\", \"wb\"), stopwords)  # 불용어 사전 저장"
   ]
  },
  {
   "cell_type": "code",
   "execution_count": 34,
   "metadata": {
    "ExecuteTime": {
     "end_time": "2021-01-12T12:18:25.256068Z",
     "start_time": "2021-01-12T12:18:25.248445Z"
    },
    "scrolled": true
   },
   "outputs": [],
   "source": [
    "# 저장된 불용어 사전 불러오기\n",
    "stopwords = set(np.load(open(\"./불용어사전.txt\", \"rb\")))"
   ]
  },
  {
   "cell_type": "code",
   "execution_count": 35,
   "metadata": {
    "ExecuteTime": {
     "end_time": "2021-01-12T12:18:25.753976Z",
     "start_time": "2021-01-12T12:18:25.258970Z"
    }
   },
   "outputs": [],
   "source": [
    "def remove_stopwords(review, stopwords=stopwords):\n",
    "    \"\"\"\n",
    "    인풋값으로 받은 리뷰에서 불용어를 제거해주는 함수\n",
    "    \"\"\"\n",
    "    cleaned = [word for word in review.split() if word not in stopwords]\n",
    "    return \" \".join(cleaned)\n",
    "\n",
    "train_data[\"review\"] = train_data.review.apply(remove_stopwords)\n",
    "test_data[\"review\"] = test_data.review.apply(remove_stopwords)"
   ]
  },
  {
   "cell_type": "markdown",
   "metadata": {},
   "source": [
    "## 어간 추출\n",
    "---\n",
    "\n",
    "`KoNLPy` 모듈의 okt 오브젝트를 사용해 어간만 추출하도록 한다. 이 때 `stem=True` 인자를 포함시키면 어간의 기본형으로 자동 변환해준다."
   ]
  },
  {
   "cell_type": "code",
   "execution_count": 36,
   "metadata": {
    "ExecuteTime": {
     "end_time": "2021-01-12T12:22:23.690783Z",
     "start_time": "2021-01-12T12:18:25.755484Z"
    }
   },
   "outputs": [
    {
     "name": "stdout",
     "output_type": "stream",
     "text": [
      "10000/148523 완료\n",
      "20000/148523 완료\n",
      "30000/148523 완료\n",
      "40000/148523 완료\n",
      "50000/148523 완료\n",
      "60000/148523 완료\n",
      "70000/148523 완료\n",
      "80000/148523 완료\n",
      "90000/148523 완료\n",
      "100000/148523 완료\n",
      "110000/148523 완료\n",
      "120000/148523 완료\n",
      "130000/148523 완료\n",
      "140000/148523 완료\n"
     ]
    }
   ],
   "source": [
    "from konlpy.tag import Okt\n",
    "\n",
    "okt = Okt()\n",
    "\n",
    "# 학습 데이터 변환\n",
    "clean_reviews = []\n",
    "\n",
    "for review in train_data[\"review\"]:\n",
    "    clean_reviews.append(okt.morphs(review))\n",
    "    \n",
    "    if len(clean_reviews) % 10000 == 0:\n",
    "        print(\"{}/{} 완료\".format(len(clean_reviews), len(train_data[\"review\"])))"
   ]
  },
  {
   "cell_type": "code",
   "execution_count": 37,
   "metadata": {
    "ExecuteTime": {
     "end_time": "2021-01-12T12:23:49.031601Z",
     "start_time": "2021-01-12T12:22:23.692262Z"
    }
   },
   "outputs": [
    {
     "name": "stdout",
     "output_type": "stream",
     "text": [
      "10000/49485 완료\n",
      "20000/49485 완료\n",
      "30000/49485 완료\n",
      "40000/49485 완료\n"
     ]
    }
   ],
   "source": [
    "# 테스트 데이터 변환\n",
    "clean_reviews_test = []\n",
    "\n",
    "for review in test_data[\"review\"]:\n",
    "    clean_reviews_test.append(okt.morphs(review))\n",
    "    \n",
    "    if len(clean_reviews_test) % 10000 == 0:\n",
    "        print(\"{}/{} 완료\".format(len(clean_reviews_test), len(test_data[\"review\"])))"
   ]
  },
  {
   "cell_type": "markdown",
   "metadata": {},
   "source": [
    "## 전처리된 리뷰들의 단어수 분포 파악"
   ]
  },
  {
   "cell_type": "code",
   "execution_count": 38,
   "metadata": {
    "ExecuteTime": {
     "end_time": "2021-01-12T12:23:49.543817Z",
     "start_time": "2021-01-12T12:23:49.033393Z"
    }
   },
   "outputs": [
    {
     "name": "stdout",
     "output_type": "stream",
     "text": [
      "count    148523.000000\n",
      "mean         12.434613\n",
      "std          10.805975\n",
      "min           1.000000\n",
      "25%           5.000000\n",
      "50%           9.000000\n",
      "75%          15.000000\n",
      "max         128.000000\n",
      "dtype: float64\n"
     ]
    }
   ],
   "source": [
    "wordcounts_train = pd.Series(clean_reviews).astype(str).apply(lambda x: len(x.split()))\n",
    "median = wordcounts_train.median()   # 중위수\n",
    "mean = wordcounts_train.mean()       # 평균\n",
    "mode = wordcounts_train.mode()[0]    # 최빈값\n",
    "\n",
    "print(wordcounts_train.describe())"
   ]
  },
  {
   "cell_type": "code",
   "execution_count": 39,
   "metadata": {
    "ExecuteTime": {
     "end_time": "2021-01-12T12:23:50.133637Z",
     "start_time": "2021-01-12T12:23:49.545524Z"
    }
   },
   "outputs": [
    {
     "data": {
      "image/png": "[encoded data removed]",
      "text/plain": [
       "<Figure size 432x288 with 1 Axes>"
      ]
     },
     "metadata": {
      "needs_background": "light"
     },
     "output_type": "display_data"
    }
   ],
   "source": [
    "plt.rcParams['font.family'] = 'AppleGothic'   # 한글 깨짐 방지\n",
    "\n",
    "\n",
    "# 단어수 분포 시각화\n",
    "fig, ax = plt.subplots()\n",
    "\n",
    "sns.distplot(wordcounts_train, bins=wordcounts_train.max(),\n",
    "            hist_kws={\"alpha\": 0.7, \"color\": \"blue\"}, ax=ax,\n",
    "            kde_kws={\"color\": \"black\", 'linewidth': 3})\n",
    "\n",
    "ax.set_xlim(left=0, right=np.percentile(wordcounts_train, 95))\n",
    "ax.set_xlabel(\"단어 개수\")\n",
    "ymax = 0.1\n",
    "plt.ylim(0, ymax)\n",
    "\n",
    "ax.plot([mode, mode], [0, ymax], '--', label=f'mode = {mode:.2f}', linewidth=4)\n",
    "ax.plot([mean, mean], [0, ymax], '--', label=f'mean = {mean:.2f}', linewidth=4)\n",
    "ax.plot([median, median], [0, ymax], '--',\n",
    "        label=f'median = {median:.2f}', linewidth=4)\n",
    "\n",
    "ax.set_title('리뷰 당 단어수의 분포', fontsize=20)\n",
    "plt.legend()\n",
    "plt.show()"
   ]
  },
  {
   "cell_type": "markdown",
   "metadata": {},
   "source": [
    "- 5 ~ 10 단어 사이의 리뷰가 가장 많고, 대부분 20개 이하의 단어가 사용된 것을 확인할 수 있다."
   ]
  },
  {
   "cell_type": "code",
   "execution_count": 40,
   "metadata": {
    "ExecuteTime": {
     "end_time": "2021-01-12T12:23:52.520611Z",
     "start_time": "2021-01-12T12:23:50.135486Z"
    }
   },
   "outputs": [
    {
     "name": "stdout",
     "output_type": "stream",
     "text": [
      "단어 집합의 크기 : 72655\n",
      "등장 빈도가 3번 이하인 희귀 단어의 수: 49448\n",
      "단어 집합에서 희귀 단어의 비율: 68.06%\n",
      "전체 등장 빈도에서 희귀 단어 등장 빈도 비율: 3.81%\n"
     ]
    }
   ],
   "source": [
    "from tensorflow.keras.preprocessing.text import Tokenizer\n",
    "tokenizer = Tokenizer()\n",
    "tokenizer.fit_on_texts(clean_reviews)\n",
    "\n",
    "threshold = 4                            # 단어 빈도수 기준\n",
    "total_cnt = len(tokenizer.word_index)    # 총 단어의 개수\n",
    "rare_cnt = 0                             # 빈도수가 threshold보다 작은 단어의 개수를 카운트\n",
    "total_freq = 0                           # 훈련 데이터의 전체 단어 빈도수 총 합\n",
    "rare_freq = 0                            # 등장 빈도수가 threshold보다 작은 단어의 등장 빈도수의 총 합\n",
    "\n",
    "# 단어와 빈도수의 쌍(pair)을 key와 value로 받는다.\n",
    "for key, value in tokenizer.word_counts.items():\n",
    "    total_freq = total_freq + value\n",
    "\n",
    "    # 단어의 등장 빈도수가 threshold보다 작으면\n",
    "    if(value < threshold):\n",
    "        rare_cnt = rare_cnt + 1\n",
    "        rare_freq = rare_freq + value\n",
    "\n",
    "print('단어 집합의 크기 : {}'.format(total_cnt))\n",
    "print('등장 빈도가 {}번 이하인 희귀 단어의 수: {}'.format(threshold - 1, rare_cnt))\n",
    "print(\"단어 집합에서 희귀 단어의 비율: {:.2f}%\".format(rare_cnt / total_cnt * 100))\n",
    "print(\"전체 등장 빈도에서 희귀 단어 등장 빈도 비율: {:.2f}%\".format(rare_freq / total_freq * 100))"
   ]
  },
  {
   "cell_type": "markdown",
   "metadata": {},
   "source": [
    "- 전체 단어 집합에서 3회 이하로 사용된 단어가 차지하는 비율이 약 70%나 됨에도 불구하고 상대적인 등장 빈도는 4% 정도 밖에 되지 않는다.\n",
    "- 앞서 전처리 과정에서 띄어쓰기를 강제로 교정해주는 과정에서 한두개짜리 불용어들이 추가되었을 가능성이 크므로 제거하는 것이 타당할 것 같다."
   ]
  },
  {
   "cell_type": "markdown",
   "metadata": {},
   "source": [
    "## 단어 벡터화\n",
    "---\n",
    "\n",
    "- 이제 마지막 단계로 위에서 처리해준 리뷰들을 인덱스 벡터로 바꾼 뒤 패딩 처리만 해주면 된다.\n",
    "- 단어들을 벡터로 임베딩하는 방법은 여러개가 있으나, 단어간의 관계를 잘 표현할 수 있는 word2vec 모델을 사용도록 하자.\n",
    "- 추가적으로 연속된 3개까지의 단어들의 관계를 고려하기 위해 각 리뷰들에 대해 trigram 을 사용한다."
   ]
  },
  {
   "cell_type": "code",
   "execution_count": 41,
   "metadata": {
    "ExecuteTime": {
     "end_time": "2021-01-12T12:23:52.525006Z",
     "start_time": "2021-01-12T12:23:52.522319Z"
    }
   },
   "outputs": [],
   "source": [
    "# word2vec 모델의 하이퍼파라미터 정의\n",
    "embedding_vector_size = 64     # 임베딩 벡터 사이즈\n",
    "min_word_count = 3             # 설정된 빈도수 보다 낮은 단어들은 무시\n",
    "num_workers = 8                # 프로세서 코어 개수\n",
    "context = 5                    # context window 사이즈 설정 (n-gram 이랑 유사한 개념)\n",
    "downsampling = 1e-3            # 다운 샘플링 비율. 학습 속도를 높이기 위해 사용되며 주로 0.001이 사용된다.\n",
    "sg = 0                         # 0 for CBOW, 1 for Skip-gram"
   ]
  },
  {
   "cell_type": "code",
   "execution_count": 42,
   "metadata": {
    "ExecuteTime": {
     "end_time": "2021-01-12T12:24:04.725891Z",
     "start_time": "2021-01-12T12:23:52.527030Z"
    }
   },
   "outputs": [],
   "source": [
    "# 단어 간 ngram 고려\n",
    "from gensim.models import Phrases\n",
    "bigrams = Phrases(sentences = clean_reviews)\n",
    "trigrams = Phrases(sentences = bigrams[clean_reviews])"
   ]
  },
  {
   "cell_type": "code",
   "execution_count": 43,
   "metadata": {
    "ExecuteTime": {
     "end_time": "2021-01-12T12:25:27.333923Z",
     "start_time": "2021-01-12T12:24:04.727644Z"
    },
    "scrolled": false
   },
   "outputs": [
    {
     "name": "stdout",
     "output_type": "stream",
     "text": [
      "Training Model...\n"
     ]
    }
   ],
   "source": [
    "# word2vec Skip-gram 모델 정의\n",
    "from gensim.models import word2vec\n",
    "\n",
    "print(\"Training Model...\")\n",
    "model = word2vec.Word2Vec(trigrams[bigrams[clean_reviews]],\n",
    "                          workers = num_workers,\n",
    "                          size = embedding_vector_size,\n",
    "                          min_count = min_word_count,\n",
    "                          window = context,\n",
    "                          sample = downsampling,\n",
    "                          sg = sg)"
   ]
  },
  {
   "cell_type": "code",
   "execution_count": 44,
   "metadata": {
    "ExecuteTime": {
     "end_time": "2021-01-12T12:25:27.357768Z",
     "start_time": "2021-01-12T12:25:27.335791Z"
    }
   },
   "outputs": [
    {
     "data": {
      "text/plain": [
       "[('애니', 0.7810847759246826),\n",
       " ('다큐', 0.7302770018577576),\n",
       " ('공포영화', 0.7269704341888428),\n",
       " ('이렇게', 0.7048866152763367),\n",
       " ('애니메이션', 0.7001093626022339),\n",
       " ('영화로', 0.6938016414642334),\n",
       " ('독립영화', 0.6915158033370972),\n",
       " ('만화', 0.6886732578277588),\n",
       " ('유실', 0.687038004398346),\n",
       " ('영화인', 0.684454619884491)]"
      ]
     },
     "execution_count": 44,
     "metadata": {},
     "output_type": "execute_result"
    }
   ],
   "source": [
    "# 특정 단어와 가장 유사한 단어들 추출\n",
    "model.wv.most_similar(\"영화\")"
   ]
  },
  {
   "cell_type": "code",
   "execution_count": 45,
   "metadata": {
    "ExecuteTime": {
     "end_time": "2021-01-12T12:25:27.365478Z",
     "start_time": "2021-01-12T12:25:27.359369Z"
    }
   },
   "outputs": [
    {
     "name": "stderr",
     "output_type": "stream",
     "text": [
      "/Users/dongwook/opt/anaconda3/lib/python3.8/site-packages/gensim/models/keyedvectors.py:877: FutureWarning: arrays to stack must be passed as a \"sequence\" type such as list or tuple. Support for non-sequence iterables such as generators is deprecated as of NumPy 1.16 and will raise an error in the future.\n",
      "  vectors = vstack(self.word_vec(word, use_norm=True) for word in used_words).astype(REAL)\n"
     ]
    },
    {
     "data": {
      "text/plain": [
       "'돈'"
      ]
     },
     "execution_count": 45,
     "metadata": {},
     "output_type": "execute_result"
    }
   ],
   "source": [
    "# 특정 맥락에 어울리지 않는 단어 파악\n",
    "model.wv.doesnt_match([\"돈\", \"강아지\", \"상어\", \"고양이\"])"
   ]
  },
  {
   "cell_type": "code",
   "execution_count": 46,
   "metadata": {
    "ExecuteTime": {
     "end_time": "2021-01-12T12:28:03.012571Z",
     "start_time": "2021-01-12T12:25:27.367060Z"
    }
   },
   "outputs": [
    {
     "name": "stdout",
     "output_type": "stream",
     "text": [
      "ngram 을 사용해서 문장 변환 중... (완료)\n",
      "문장 벡터 변환 중... (완료)\n",
      "각 문장을 벡터로 변환 중... (완료)\n"
     ]
    }
   ],
   "source": [
    "from tensorflow.keras.preprocessing.sequence import pad_sequences\n",
    "\n",
    "# Word2vec 벡터화\n",
    "def vectorize_data(data, vocab: dict) -> list:\n",
    "    \"\"\"\n",
    "    Word2vec 모델을 이용해 문장을 벡터화 해주는 함수\n",
    "    \"\"\"\n",
    "    print('문장 벡터 변환 중...', end='\\r')\n",
    "    keys = list(vocab.keys())\n",
    "    filter_unknown = (lambda word: vocab.get(word) is not None)   # word2vec 모델에 학습되지 않은 단어 무시하는 함수\n",
    "    encode = (lambda review: list(map(keys.index, filter(filter_unknown, review))))  # 벡터화 하는 함수\n",
    "    vectorized = list(map(encode, data))    # word2vec 벡터 반환\n",
    "    print('문장 벡터 변환 중... (완료)')\n",
    "    \n",
    "    return vectorized\n",
    "\n",
    "\n",
    "\n",
    "# 단어 벡터 변환 후 패딩 설정\n",
    "print('ngram 을 사용해서 문장 변환 중...', end='\\r')\n",
    "X_data_train = trigrams[bigrams[clean_reviews]]\n",
    "print('ngram 을 사용해서 문장 변환 중... (완료)')\n",
    "\n",
    "input_length = 15      # 패딩 길이 설정\n",
    "\n",
    "train_inputs = pad_sequences(\n",
    "    sequences = vectorize_data(X_data_train, vocab = model.wv.vocab),\n",
    "    maxlen = input_length,\n",
    "    padding = 'post')\n",
    "print('각 문장을 벡터로 변환 중... (완료)')"
   ]
  },
  {
   "cell_type": "markdown",
   "metadata": {},
   "source": [
    "- 약 2~3분 정도 소요된다."
   ]
  },
  {
   "cell_type": "code",
   "execution_count": 47,
   "metadata": {
    "ExecuteTime": {
     "end_time": "2021-01-12T12:28:03.018043Z",
     "start_time": "2021-01-12T12:28:03.014093Z"
    }
   },
   "outputs": [
    {
     "name": "stdout",
     "output_type": "stream",
     "text": [
      "(148523, 15)\n"
     ]
    },
    {
     "data": {
      "text/plain": [
       "array([[    0,     1,     2, ...,     0,     0,     0],\n",
       "       [    4,     5,     6, ...,     0,     0,     0],\n",
       "       [   12,    13,    14, ...,     0,     0,     0],\n",
       "       ...,\n",
       "       [   65,   150,  7820, ...,     0,     0,     0],\n",
       "       [ 1253,     7, 13334, ...,     0,     0,     0],\n",
       "       [  617,     7, 19189, ...,     0,     0,     0]], dtype=int32)"
      ]
     },
     "execution_count": 47,
     "metadata": {},
     "output_type": "execute_result"
    }
   ],
   "source": [
    "print(train_inputs.shape)\n",
    "train_inputs  # 학습 리뷰 데이터"
   ]
  },
  {
   "cell_type": "code",
   "execution_count": 48,
   "metadata": {
    "ExecuteTime": {
     "end_time": "2021-01-12T12:28:55.279829Z",
     "start_time": "2021-01-12T12:28:03.019682Z"
    }
   },
   "outputs": [
    {
     "name": "stdout",
     "output_type": "stream",
     "text": [
      "ngram 을 사용해서 문장 변환 중... (완료)\n",
      "문장 벡터 변환 중... (완료)\n",
      "각 문장을 벡터로 변환 중... (완료)\n"
     ]
    }
   ],
   "source": [
    "# 테스트 데이터 벡터화\n",
    "\n",
    "# 단어 벡터 변환 후 패딩 설정\n",
    "print('ngram 을 사용해서 문장 변환 중...', end='\\r')\n",
    "X_data_test = trigrams[bigrams[clean_reviews_test]]\n",
    "print('ngram 을 사용해서 문장 변환 중... (완료)')\n",
    "\n",
    "input_length = 15      # 패딩 길이 설정\n",
    "\n",
    "test_inputs = pad_sequences(\n",
    "    sequences = vectorize_data(X_data_test, vocab = model.wv.vocab),\n",
    "    maxlen = input_length,\n",
    "    padding = 'post')\n",
    "print('각 문장을 벡터로 변환 중... (완료)')"
   ]
  },
  {
   "cell_type": "code",
   "execution_count": 49,
   "metadata": {
    "ExecuteTime": {
     "end_time": "2021-01-12T12:28:55.286381Z",
     "start_time": "2021-01-12T12:28:55.281528Z"
    }
   },
   "outputs": [
    {
     "name": "stdout",
     "output_type": "stream",
     "text": [
      "(49485, 15)\n"
     ]
    },
    {
     "data": {
      "text/plain": [
       "array([[11934,     0,     0, ...,     0,     0,     0],\n",
       "       [   88,   113,   171, ...,     0,     0,     0],\n",
       "       [22184,  6523, 22618, ...,     0,     0,     0],\n",
       "       ...,\n",
       "       [ 5490,  1850, 11843, ...,     0,     0,     0],\n",
       "       [  195, 11044, 13710, ..., 16272,     0,     0],\n",
       "       [ 7602,    24,    87, ...,     0,     0,     0]], dtype=int32)"
      ]
     },
     "execution_count": 49,
     "metadata": {},
     "output_type": "execute_result"
    }
   ],
   "source": [
    "print(test_inputs.shape)\n",
    "test_inputs  # 테스트 리뷰 데이터"
   ]
  },
  {
   "cell_type": "markdown",
   "metadata": {},
   "source": [
    "# 데이터 저장\n",
    "\n",
    "전처리가 완료된 데이터들을 추후에 사용하기 위해 별도로 저장해두자."
   ]
  },
  {
   "cell_type": "code",
   "execution_count": 50,
   "metadata": {
    "ExecuteTime": {
     "end_time": "2021-01-12T12:28:55.748079Z",
     "start_time": "2021-01-12T12:28:55.288471Z"
    }
   },
   "outputs": [],
   "source": [
    "np.save(open(\"./Preprocessed/train_input_embedded.npy\", \"wb\"), train_inputs)\n",
    "np.save(open(\"./Preprocessed/test_input_embedded.npy\", \"wb\"), test_inputs)\n",
    "np.save(open(\"./Preprocessed/word2vec_weights.npy\", \"wb\"), model.wv.vectors)\n",
    "\n",
    "train_data.to_csv(\"./Preprocessed/train_data_preprocessed.csv\", index=False)\n",
    "test_data.to_csv(\"./Preprocessed/test_data_preprocessed.csv\", index=False)"
   ]
  },
  {
   "cell_type": "code",
   "execution_count": null,
   "metadata": {},
   "outputs": [],
   "source": []
  },
  {
   "cell_type": "code",
   "execution_count": 51,
   "metadata": {
    "ExecuteTime": {
     "end_time": "2021-01-12T12:28:55.760114Z",
     "start_time": "2021-01-12T12:28:55.750234Z"
    }
   },
   "outputs": [
    {
     "data": {
      "text/plain": [
       "array([[-2.1131377e+00,  1.8393431e+00,  5.8106536e-01, ...,\n",
       "         1.1477711e+00,  1.4246622e+00, -1.6565651e-01],\n",
       "       [ 1.2079192e+00, -2.1508222e+00,  1.9984616e+00, ...,\n",
       "         2.3822107e+00, -8.0653381e-01,  1.1349719e+00],\n",
       "       [ 2.4079895e+00, -2.2747638e+00,  9.1027725e-01, ...,\n",
       "         4.4114643e-01,  1.0521927e+00, -1.3157986e+00],\n",
       "       ...,\n",
       "       [ 1.3476901e-02,  2.2586703e-02,  1.0158729e-02, ...,\n",
       "        -8.5456809e-03,  4.1596118e-02,  1.5040760e-02],\n",
       "       [ 2.4638060e-02, -3.7844166e-02, -1.2605416e-02, ...,\n",
       "         2.8696607e-03, -1.4675030e-02, -1.1668139e-02],\n",
       "       [ 2.8592119e-02, -4.3789584e-02, -2.6703516e-02, ...,\n",
       "        -3.1783011e-02,  7.2704977e-03,  1.1685374e-03]], dtype=float32)"
      ]
     },
     "execution_count": 51,
     "metadata": {},
     "output_type": "execute_result"
    }
   ],
   "source": [
    "np.load(open(\"./Preprocessed/word2vec_weights.npy\", \"rb\"))"
   ]
  },
  {
   "cell_type": "code",
   "execution_count": 52,
   "metadata": {
    "ExecuteTime": {
     "end_time": "2021-01-12T12:28:55.765649Z",
     "start_time": "2021-01-12T12:28:55.761907Z"
    }
   },
   "outputs": [
    {
     "data": {
      "text/plain": [
       "array([[-2.1131377e+00,  1.8393431e+00,  5.8106536e-01, ...,\n",
       "         1.1477711e+00,  1.4246622e+00, -1.6565651e-01],\n",
       "       [ 1.2079192e+00, -2.1508222e+00,  1.9984616e+00, ...,\n",
       "         2.3822107e+00, -8.0653381e-01,  1.1349719e+00],\n",
       "       [ 2.4079895e+00, -2.2747638e+00,  9.1027725e-01, ...,\n",
       "         4.4114643e-01,  1.0521927e+00, -1.3157986e+00],\n",
       "       ...,\n",
       "       [ 1.3476901e-02,  2.2586703e-02,  1.0158729e-02, ...,\n",
       "        -8.5456809e-03,  4.1596118e-02,  1.5040760e-02],\n",
       "       [ 2.4638060e-02, -3.7844166e-02, -1.2605416e-02, ...,\n",
       "         2.8696607e-03, -1.4675030e-02, -1.1668139e-02],\n",
       "       [ 2.8592119e-02, -4.3789584e-02, -2.6703516e-02, ...,\n",
       "        -3.1783011e-02,  7.2704977e-03,  1.1685374e-03]], dtype=float32)"
      ]
     },
     "execution_count": 52,
     "metadata": {},
     "output_type": "execute_result"
    }
   ],
   "source": [
    "model.wv.vectors"
   ]
  },
  {
   "cell_type": "code",
   "execution_count": 53,
   "metadata": {
    "ExecuteTime": {
     "end_time": "2021-01-12T12:28:55.770455Z",
     "start_time": "2021-01-12T12:28:55.767281Z"
    }
   },
   "outputs": [
    {
     "data": {
      "text/plain": [
       "(39715, 64)"
      ]
     },
     "execution_count": 53,
     "metadata": {},
     "output_type": "execute_result"
    }
   ],
   "source": [
    "model.wv.vectors.shape"
   ]
  },
  {
   "cell_type": "code",
   "execution_count": 54,
   "metadata": {
    "ExecuteTime": {
     "end_time": "2021-01-12T12:28:56.082485Z",
     "start_time": "2021-01-12T12:28:55.772163Z"
    }
   },
   "outputs": [
    {
     "data": {
      "text/plain": [
       "array([[11934,     0,     0, ...,     0,     0,     0],\n",
       "       [   88,   113,   171, ...,     0,     0,     0],\n",
       "       [22184,  6523, 22618, ...,     0,     0,     0],\n",
       "       ...,\n",
       "       [ 5490,  1850, 11843, ...,     0,     0,     0],\n",
       "       [  195, 11044, 13710, ..., 16272,     0,     0],\n",
       "       [ 7602,    24,    87, ...,     0,     0,     0]], dtype=int32)"
      ]
     },
     "execution_count": 54,
     "metadata": {},
     "output_type": "execute_result"
    }
   ],
   "source": [
    "test_inputs"
   ]
  }
 ],
 "metadata": {
  "kernelspec": {
   "display_name": "Python 3",
   "language": "python",
   "name": "python3"
  },
  "language_info": {
   "codemirror_mode": {
    "name": "ipython",
    "version": 3
   },
   "file_extension": ".py",
   "mimetype": "text/x-python",
   "name": "python",
   "nbconvert_exporter": "python",
   "pygments_lexer": "ipython3",
   "version": "3.8.3"
  },
  "toc": {
   "base_numbering": 1,
   "nav_menu": {},
   "number_sections": true,
   "sideBar": true,
   "skip_h1_title": false,
   "title_cell": "Table of Contents",
   "title_sidebar": "Contents",
   "toc_cell": false,
   "toc_position": {
    "height": "calc(100% - 180px)",
    "left": "10px",
    "top": "150px",
    "width": "288px"
   },
   "toc_section_display": true,
   "toc_window_display": true
  }
 },
 "nbformat": 4,
 "nbformat_minor": 4
}
