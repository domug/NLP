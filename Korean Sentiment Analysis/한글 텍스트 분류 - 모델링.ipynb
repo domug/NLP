{
 "cells": [
  {
   "cell_type": "markdown",
   "metadata": {},
   "source": [
    "# 전처리된 데이터 불러오기\n",
    "\n",
    "- 앞서 전처리가 완료된 데이터를 가져와 RNN 모델에 학습시켜 성능을 평가해보자."
   ]
  },
  {
   "cell_type": "code",
   "execution_count": 1,
   "metadata": {
    "ExecuteTime": {
     "end_time": "2021-01-13T02:44:38.444150Z",
     "start_time": "2021-01-13T02:44:32.638711Z"
    }
   },
   "outputs": [],
   "source": [
    "import tensorflow as tf\n",
    "from tensorflow.keras import layers\n",
    "from tensorflow.keras.callbacks import EarlyStopping, ModelCheckpoint\n",
    "import numpy as np\n",
    "import pandas as pd\n",
    "import matplotlib.pyplot as plt\n",
    "import json"
   ]
  },
  {
   "cell_type": "code",
   "execution_count": 2,
   "metadata": {
    "ExecuteTime": {
     "end_time": "2021-01-13T02:44:39.027822Z",
     "start_time": "2021-01-13T02:44:38.446806Z"
    }
   },
   "outputs": [],
   "source": [
    "train_data = pd.read_csv(\"./Preprocessed/train_data_preprocessed.csv\")\n",
    "test_data = pd.read_csv(\"./Preprocessed/test_data_preprocessed.csv\")\n",
    "with open(\"./Preprocessed/data_configs.json\", \"r\") as json_file:\n",
    "    prepro_configs = json.load(json_file)"
   ]
  },
  {
   "cell_type": "code",
   "execution_count": 3,
   "metadata": {
    "ExecuteTime": {
     "end_time": "2021-01-13T02:44:39.054736Z",
     "start_time": "2021-01-13T02:44:39.030040Z"
    }
   },
   "outputs": [],
   "source": [
    "# 학습 데이터\n",
    "train_input = np.load(open(\"./Preprocessed/train_input_embedded.npy\", \"rb\"))\n",
    "train_label = np.array(train_data.label)\n",
    "\n",
    "# 테스트 데이터\n",
    "test_input = np.load(open(\"./Preprocessed/test_input_embedded.npy\", \"rb\"))\n",
    "test_label = np.array(test_data.label)\n",
    "\n",
    "word2vec_weights = np.load(open(\"./Preprocessed/word2vec_weights.npy\", \"rb\"))"
   ]
  },
  {
   "cell_type": "markdown",
   "metadata": {},
   "source": [
    "# 하이퍼 파라미터 정의\n",
    "\n",
    "RNN의 하이퍼 파라미터를 설정해주자. "
   ]
  },
  {
   "cell_type": "code",
   "execution_count": 4,
   "metadata": {
    "ExecuteTime": {
     "end_time": "2021-01-13T02:44:40.720207Z",
     "start_time": "2021-01-13T02:44:40.715325Z"
    }
   },
   "outputs": [],
   "source": [
    "# Hyperparameters for model training\n",
    "BATCH_SIZE = 256\n",
    "NUM_EPOCHS = 10\n",
    "VALID_SPLIT = 0.1\n",
    "\n",
    "# Hyperparameters for model layers\n",
    "kwargs = {\"input_dimension\": word2vec_weights.shape[0],\n",
    "        \"embedding_dimension\": word2vec_weights.shape[1],\n",
    "        \"input_length\": 15,\n",
    "        \"dropout_rate\": 0.1,\n",
    "        \"lstm_dimension\": 64,\n",
    "        \"dense_dimension\": 32,\n",
    "        \"output_dimension\": 1}"
   ]
  },
  {
   "cell_type": "markdown",
   "metadata": {},
   "source": [
    "# 모델 구조 정의\n",
    "\n",
    "- 임베딩 레이어 --> 드랍아웃 레이어 --> 양방향 LSTM 레이어 --> 드랍아웃 레이어 --> 두 개의 fully connected 레이어"
   ]
  },
  {
   "cell_type": "code",
   "execution_count": 5,
   "metadata": {
    "ExecuteTime": {
     "end_time": "2021-01-13T02:44:42.257156Z",
     "start_time": "2021-01-13T02:44:42.247143Z"
    }
   },
   "outputs": [],
   "source": [
    "import tensorflow as tf\n",
    "\n",
    "class RNNClassifier(tf.keras.Model):\n",
    "    \n",
    "    # __init__ method\n",
    "    def __init__(self, **kwargs):\n",
    "        super(RNNClassifier, self).__init__()  # super() is used to inherit parent's variables \n",
    "        self.embedding = tf.keras.layers.Embedding(input_dim = kwargs[\"input_dimension\"], \n",
    "                                          output_dim = kwargs[\"embedding_dimension\"],\n",
    "                                          input_length = kwargs[\"input_length\"],\n",
    "                                          weights = [word2vec_weights])\n",
    "        self.lstm_layer = tf.keras.layers.Bidirectional(tf.keras.layers.LSTM(kwargs[\"lstm_dimension\"]))\n",
    "        self.dropout = tf.keras.layers.Dropout(kwargs[\"dropout_rate\"])\n",
    "        self.fc1 = tf.keras.layers.Dense(units = kwargs[\"dense_dimension\"], \n",
    "                                         activation = tf.keras.activations.relu)\n",
    "        self.fc2 = tf.keras.layers.Dense(units = kwargs[\"output_dimension\"], \n",
    "                                         activation = tf.keras.activations.sigmoid)\n",
    "     \n",
    "    \n",
    "    # call method to run layers\n",
    "    def call(self, x):\n",
    "        x = self.embedding(x)      # word embedding layer\n",
    "        x = self.dropout(x)        # dropout layer\n",
    "        x = self.lstm_layer(x)     # pass LSTM layer\n",
    "        x = self.dropout(x)        # dropout layer\n",
    "        x = self.fc1(x)            # dense layer\n",
    "        x = self.fc2(x)            # output layer (binary classification)\n",
    "        \n",
    "        return x"
   ]
  },
  {
   "cell_type": "markdown",
   "metadata": {},
   "source": [
    "# 모델 생성 및 피팅\n",
    "\n",
    "이제 학습 데이터를 넣어서 모델을 훈련시켜보자.\n",
    "\n",
    "학습 속도를 높이기 위해서 구글 코랩에서 GPU를 이용해 모델을 훈련시키고, 구해진 가중치를 불러와 모델을 평가하는 과정을 거치도록 하겠다."
   ]
  },
  {
   "cell_type": "code",
   "execution_count": 6,
   "metadata": {
    "ExecuteTime": {
     "end_time": "2021-01-13T02:44:47.501385Z",
     "start_time": "2021-01-13T02:44:47.333398Z"
    }
   },
   "outputs": [],
   "source": [
    "# Create rnn model\n",
    "rnn = RNNClassifier(**kwargs)  \n",
    "\n",
    "# Comile model\n",
    "rnn.compile(optimizer = tf.keras.optimizers.RMSprop(0.001),                # optimizer\n",
    "           loss = tf.keras.losses.BinaryCrossentropy(),                    # loss function\n",
    "           metrics = [tf.keras.metrics.BinaryAccuracy(name=\"accuracy\")])   # evaluation metric"
   ]
  },
  {
   "cell_type": "code",
   "execution_count": null,
   "metadata": {
    "ExecuteTime": {
     "end_time": "2021-01-12T08:24:25.493512Z",
     "start_time": "2021-01-12T08:22:20.503961Z"
    },
    "scrolled": false
   },
   "outputs": [],
   "source": [
    "import os\n",
    "\n",
    "# EarlyStopping\n",
    "earlystop_callback = tf.keras.callbacks.EarlyStopping(monitor = \"val_accuracy\", min_delta = 0.001, patience = 3)\n",
    "\n",
    "# ModelCheckpoint\n",
    "checkpoint_path = \"./nsmc_rnn.h5\"\n",
    "    \n",
    "cp_callback = tf.keras.callbacks.ModelCheckpoint(checkpoint_path, monitor=\"val_accuracy\", \n",
    "                                   verbose=1, save_best_only=True, save_weights_only=False)\n",
    "\n",
    "# Train the model\n",
    "history = rnn.fit(train_input, train_label, batch_size=BATCH_SIZE, epochs=NUM_EPOCHS,\n",
    "                 validation_split=VALID_SPLIT, callbacks=[earlystop_callback, cp_callback])"
   ]
  },
  {
   "cell_type": "markdown",
   "metadata": {},
   "source": [
    "- 학습 시간이 오래걸리는 것을 고려해서 위의 코드를 직접 돌리지는 않을 것이다. \n",
    "- 훈련되지 않은 모델의 정확도와 훈련된 가중치들을 불러와 정의한 모델의 정확도를 비교해보자.\n",
    "\n",
    "---\n",
    "학습 과정에 대한 그래프: `pd.DataFrame(history.history).plot(xlabel=\"Epochs\")`\n",
    "\n",
    "<div>\n",
    "<img src=\"history.png\" width=\"400\", height=\"200\", align=\"left\">\n",
    "</div>"
   ]
  },
  {
   "cell_type": "markdown",
   "metadata": {},
   "source": [
    "# 모델 성능 평가"
   ]
  },
  {
   "cell_type": "code",
   "execution_count": 7,
   "metadata": {
    "ExecuteTime": {
     "end_time": "2021-01-13T02:44:53.074550Z",
     "start_time": "2021-01-13T02:44:49.407034Z"
    }
   },
   "outputs": [
    {
     "name": "stdout",
     "output_type": "stream",
     "text": [
      "1547/1547 - 4s - loss: 0.6948 - accuracy: 0.4995\n",
      "훈련되지 않은 모델의 정확도: 49.95%\n"
     ]
    }
   ],
   "source": [
    "loss, acc = rnn.evaluate(test_input,  test_label, verbose=2)\n",
    "print(\"훈련되지 않은 모델의 정확도: {:5.2f}%\".format(100*acc))"
   ]
  },
  {
   "cell_type": "code",
   "execution_count": 8,
   "metadata": {
    "ExecuteTime": {
     "end_time": "2021-01-13T02:44:55.514351Z",
     "start_time": "2021-01-13T02:44:53.076348Z"
    }
   },
   "outputs": [
    {
     "name": "stdout",
     "output_type": "stream",
     "text": [
      "1547/1547 - 2s - loss: 0.3495 - accuracy: 0.8551\n",
      "복원된 모델의 정확도: 85.51%\n"
     ]
    }
   ],
   "source": [
    "# 가중치 로드\n",
    "rnn.load_weights(\"./nsmc_rnn.h5\")\n",
    "\n",
    "# 모델 재평가\n",
    "loss, acc = rnn.evaluate(test_input,  test_label, verbose=2)\n",
    "print(\"복원된 모델의 정확도: {:5.2f}%\".format(100*acc))"
   ]
  },
  {
   "cell_type": "markdown",
   "metadata": {},
   "source": [
    "- 구글 코랩을 이용해 훈련된 가중치를 불러와 테스트 데이터를 바탕으로 성능을 평가해보니 약 85.5%의 정확도를 보이는 것을 확인할 수 있었다."
   ]
  }
 ],
 "metadata": {
  "kernelspec": {
   "display_name": "Python 3",
   "language": "python",
   "name": "python3"
  },
  "language_info": {
   "codemirror_mode": {
    "name": "ipython",
    "version": 3
   },
   "file_extension": ".py",
   "mimetype": "text/x-python",
   "name": "python",
   "nbconvert_exporter": "python",
   "pygments_lexer": "ipython3",
   "version": "3.8.3"
  },
  "toc": {
   "base_numbering": 1,
   "nav_menu": {},
   "number_sections": true,
   "sideBar": true,
   "skip_h1_title": false,
   "title_cell": "Table of Contents",
   "title_sidebar": "Contents",
   "toc_cell": false,
   "toc_position": {},
   "toc_section_display": true,
   "toc_window_display": true
  }
 },
 "nbformat": 4,
 "nbformat_minor": 4
}
